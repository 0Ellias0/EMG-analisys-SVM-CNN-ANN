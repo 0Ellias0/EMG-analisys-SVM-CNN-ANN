{
 "cells": [
  {
   "attachments": {},
   "cell_type": "markdown",
   "metadata": {},
   "source": [
    "# **Libraries**"
   ]
  },
  {
   "cell_type": "code",
   "execution_count": 1,
   "metadata": {},
   "outputs": [],
   "source": [
    "import numpy as np\n",
    "import pandas as pd\n",
    "import tensorflow as tf\n",
    "import matplotlib.pyplot as plt\n",
    "from sklearn import svm\n",
    "from sklearn.model_selection import train_test_split\n",
    "from sklearn.metrics import accuracy_score\n",
    "import seaborn as sns"
   ]
  },
  {
   "attachments": {},
   "cell_type": "markdown",
   "metadata": {},
   "source": [
    "# **Import EMG Feature (CSV file)**"
   ]
  },
  {
   "cell_type": "code",
   "execution_count": 2,
   "metadata": {},
   "outputs": [
    {
     "data": {
      "text/html": [
       "<div>\n",
       "<style scoped>\n",
       "    .dataframe tbody tr th:only-of-type {\n",
       "        vertical-align: middle;\n",
       "    }\n",
       "\n",
       "    .dataframe tbody tr th {\n",
       "        vertical-align: top;\n",
       "    }\n",
       "\n",
       "    .dataframe thead th {\n",
       "        text-align: right;\n",
       "    }\n",
       "</style>\n",
       "<table border=\"1\" class=\"dataframe\">\n",
       "  <thead>\n",
       "    <tr style=\"text-align: right;\">\n",
       "      <th></th>\n",
       "      <th>EMAV</th>\n",
       "      <th>EWL</th>\n",
       "      <th>MAV</th>\n",
       "      <th>WL</th>\n",
       "      <th>ZC</th>\n",
       "      <th>SSC</th>\n",
       "      <th>RMS</th>\n",
       "      <th>AAC</th>\n",
       "      <th>DASDV</th>\n",
       "      <th>LD</th>\n",
       "      <th>MMAV</th>\n",
       "      <th>MMAV2</th>\n",
       "      <th>MYOP</th>\n",
       "      <th>SSI</th>\n",
       "      <th>VAR</th>\n",
       "      <th>WAMP</th>\n",
       "      <th>MFL</th>\n",
       "      <th>Label</th>\n",
       "    </tr>\n",
       "  </thead>\n",
       "  <tbody>\n",
       "    <tr>\n",
       "      <th>0</th>\n",
       "      <td>0.249385</td>\n",
       "      <td>16.725057</td>\n",
       "      <td>0.127188</td>\n",
       "      <td>10.500000</td>\n",
       "      <td>28</td>\n",
       "      <td>5</td>\n",
       "      <td>0.174986</td>\n",
       "      <td>0.214286</td>\n",
       "      <td>0.290942</td>\n",
       "      <td>0.0</td>\n",
       "      <td>0.101328</td>\n",
       "      <td>0.101069</td>\n",
       "      <td>0.0</td>\n",
       "      <td>1.531006</td>\n",
       "      <td>0.030615</td>\n",
       "      <td>142</td>\n",
       "      <td>0.308904</td>\n",
       "      <td>0</td>\n",
       "    </tr>\n",
       "    <tr>\n",
       "      <th>1</th>\n",
       "      <td>0.345478</td>\n",
       "      <td>22.345027</td>\n",
       "      <td>0.213594</td>\n",
       "      <td>17.648438</td>\n",
       "      <td>30</td>\n",
       "      <td>9</td>\n",
       "      <td>0.278894</td>\n",
       "      <td>0.360172</td>\n",
       "      <td>0.468100</td>\n",
       "      <td>0.0</td>\n",
       "      <td>0.180547</td>\n",
       "      <td>0.181525</td>\n",
       "      <td>0.0</td>\n",
       "      <td>3.889099</td>\n",
       "      <td>0.077713</td>\n",
       "      <td>121</td>\n",
       "      <td>0.515437</td>\n",
       "      <td>0</td>\n",
       "    </tr>\n",
       "    <tr>\n",
       "      <th>2</th>\n",
       "      <td>0.348532</td>\n",
       "      <td>20.233636</td>\n",
       "      <td>0.215312</td>\n",
       "      <td>15.507812</td>\n",
       "      <td>27</td>\n",
       "      <td>5</td>\n",
       "      <td>0.286535</td>\n",
       "      <td>0.316486</td>\n",
       "      <td>0.430255</td>\n",
       "      <td>0.0</td>\n",
       "      <td>0.171719</td>\n",
       "      <td>0.168937</td>\n",
       "      <td>0.0</td>\n",
       "      <td>4.105103</td>\n",
       "      <td>0.081774</td>\n",
       "      <td>105</td>\n",
       "      <td>0.478824</td>\n",
       "      <td>0</td>\n",
       "    </tr>\n",
       "    <tr>\n",
       "      <th>3</th>\n",
       "      <td>0.198188</td>\n",
       "      <td>11.331826</td>\n",
       "      <td>0.089531</td>\n",
       "      <td>6.460938</td>\n",
       "      <td>24</td>\n",
       "      <td>6</td>\n",
       "      <td>0.133596</td>\n",
       "      <td>0.131856</td>\n",
       "      <td>0.206220</td>\n",
       "      <td>0.0</td>\n",
       "      <td>0.071094</td>\n",
       "      <td>0.070806</td>\n",
       "      <td>0.0</td>\n",
       "      <td>0.892395</td>\n",
       "      <td>0.017807</td>\n",
       "      <td>102</td>\n",
       "      <td>0.159428</td>\n",
       "      <td>0</td>\n",
       "    </tr>\n",
       "    <tr>\n",
       "      <th>4</th>\n",
       "      <td>0.165035</td>\n",
       "      <td>9.825415</td>\n",
       "      <td>0.063281</td>\n",
       "      <td>4.921875</td>\n",
       "      <td>28</td>\n",
       "      <td>6</td>\n",
       "      <td>0.086356</td>\n",
       "      <td>0.100446</td>\n",
       "      <td>0.132920</td>\n",
       "      <td>0.0</td>\n",
       "      <td>0.048594</td>\n",
       "      <td>0.046594</td>\n",
       "      <td>0.0</td>\n",
       "      <td>0.372864</td>\n",
       "      <td>0.007408</td>\n",
       "      <td>61</td>\n",
       "      <td>-0.031311</td>\n",
       "      <td>0</td>\n",
       "    </tr>\n",
       "    <tr>\n",
       "      <th>...</th>\n",
       "      <td>...</td>\n",
       "      <td>...</td>\n",
       "      <td>...</td>\n",
       "      <td>...</td>\n",
       "      <td>...</td>\n",
       "      <td>...</td>\n",
       "      <td>...</td>\n",
       "      <td>...</td>\n",
       "      <td>...</td>\n",
       "      <td>...</td>\n",
       "      <td>...</td>\n",
       "      <td>...</td>\n",
       "      <td>...</td>\n",
       "      <td>...</td>\n",
       "      <td>...</td>\n",
       "      <td>...</td>\n",
       "      <td>...</td>\n",
       "      <td>...</td>\n",
       "    </tr>\n",
       "    <tr>\n",
       "      <th>11419</th>\n",
       "      <td>0.064414</td>\n",
       "      <td>2.109120</td>\n",
       "      <td>0.012031</td>\n",
       "      <td>0.453125</td>\n",
       "      <td>2</td>\n",
       "      <td>2</td>\n",
       "      <td>0.014192</td>\n",
       "      <td>0.009247</td>\n",
       "      <td>0.011916</td>\n",
       "      <td>0.0</td>\n",
       "      <td>0.008984</td>\n",
       "      <td>0.008788</td>\n",
       "      <td>0.0</td>\n",
       "      <td>0.010071</td>\n",
       "      <td>0.000085</td>\n",
       "      <td>111</td>\n",
       "      <td>-1.078758</td>\n",
       "      <td>5</td>\n",
       "    </tr>\n",
       "    <tr>\n",
       "      <th>11420</th>\n",
       "      <td>0.058943</td>\n",
       "      <td>2.338054</td>\n",
       "      <td>0.010781</td>\n",
       "      <td>0.429688</td>\n",
       "      <td>2</td>\n",
       "      <td>16</td>\n",
       "      <td>0.012742</td>\n",
       "      <td>0.008769</td>\n",
       "      <td>0.010992</td>\n",
       "      <td>0.0</td>\n",
       "      <td>0.007969</td>\n",
       "      <td>0.007856</td>\n",
       "      <td>0.0</td>\n",
       "      <td>0.008118</td>\n",
       "      <td>0.000053</td>\n",
       "      <td>329</td>\n",
       "      <td>-1.113824</td>\n",
       "      <td>5</td>\n",
       "    </tr>\n",
       "    <tr>\n",
       "      <th>11421</th>\n",
       "      <td>0.054512</td>\n",
       "      <td>3.082856</td>\n",
       "      <td>0.010313</td>\n",
       "      <td>0.585938</td>\n",
       "      <td>9</td>\n",
       "      <td>4</td>\n",
       "      <td>0.013166</td>\n",
       "      <td>0.011958</td>\n",
       "      <td>0.013346</td>\n",
       "      <td>0.0</td>\n",
       "      <td>0.007656</td>\n",
       "      <td>0.007775</td>\n",
       "      <td>0.0</td>\n",
       "      <td>0.008667</td>\n",
       "      <td>0.000102</td>\n",
       "      <td>178</td>\n",
       "      <td>-1.029542</td>\n",
       "      <td>5</td>\n",
       "    </tr>\n",
       "    <tr>\n",
       "      <th>11422</th>\n",
       "      <td>0.056930</td>\n",
       "      <td>3.021143</td>\n",
       "      <td>0.011094</td>\n",
       "      <td>0.648438</td>\n",
       "      <td>9</td>\n",
       "      <td>14</td>\n",
       "      <td>0.013577</td>\n",
       "      <td>0.013233</td>\n",
       "      <td>0.016289</td>\n",
       "      <td>0.0</td>\n",
       "      <td>0.008438</td>\n",
       "      <td>0.008744</td>\n",
       "      <td>0.0</td>\n",
       "      <td>0.009216</td>\n",
       "      <td>0.000110</td>\n",
       "      <td>341</td>\n",
       "      <td>-0.943020</td>\n",
       "      <td>5</td>\n",
       "    </tr>\n",
       "    <tr>\n",
       "      <th>11423</th>\n",
       "      <td>0.052117</td>\n",
       "      <td>2.726399</td>\n",
       "      <td>0.009844</td>\n",
       "      <td>0.554688</td>\n",
       "      <td>8</td>\n",
       "      <td>12</td>\n",
       "      <td>0.012742</td>\n",
       "      <td>0.011320</td>\n",
       "      <td>0.014249</td>\n",
       "      <td>0.0</td>\n",
       "      <td>0.007578</td>\n",
       "      <td>0.007562</td>\n",
       "      <td>0.0</td>\n",
       "      <td>0.008118</td>\n",
       "      <td>0.000094</td>\n",
       "      <td>170</td>\n",
       "      <td>-1.001116</td>\n",
       "      <td>5</td>\n",
       "    </tr>\n",
       "  </tbody>\n",
       "</table>\n",
       "<p>11424 rows × 18 columns</p>\n",
       "</div>"
      ],
      "text/plain": [
       "           EMAV        EWL       MAV         WL  ZC  SSC       RMS       AAC  \\\n",
       "0      0.249385  16.725057  0.127188  10.500000  28    5  0.174986  0.214286   \n",
       "1      0.345478  22.345027  0.213594  17.648438  30    9  0.278894  0.360172   \n",
       "2      0.348532  20.233636  0.215312  15.507812  27    5  0.286535  0.316486   \n",
       "3      0.198188  11.331826  0.089531   6.460938  24    6  0.133596  0.131856   \n",
       "4      0.165035   9.825415  0.063281   4.921875  28    6  0.086356  0.100446   \n",
       "...         ...        ...       ...        ...  ..  ...       ...       ...   \n",
       "11419  0.064414   2.109120  0.012031   0.453125   2    2  0.014192  0.009247   \n",
       "11420  0.058943   2.338054  0.010781   0.429688   2   16  0.012742  0.008769   \n",
       "11421  0.054512   3.082856  0.010313   0.585938   9    4  0.013166  0.011958   \n",
       "11422  0.056930   3.021143  0.011094   0.648438   9   14  0.013577  0.013233   \n",
       "11423  0.052117   2.726399  0.009844   0.554688   8   12  0.012742  0.011320   \n",
       "\n",
       "          DASDV   LD      MMAV     MMAV2  MYOP       SSI       VAR  WAMP  \\\n",
       "0      0.290942  0.0  0.101328  0.101069   0.0  1.531006  0.030615   142   \n",
       "1      0.468100  0.0  0.180547  0.181525   0.0  3.889099  0.077713   121   \n",
       "2      0.430255  0.0  0.171719  0.168937   0.0  4.105103  0.081774   105   \n",
       "3      0.206220  0.0  0.071094  0.070806   0.0  0.892395  0.017807   102   \n",
       "4      0.132920  0.0  0.048594  0.046594   0.0  0.372864  0.007408    61   \n",
       "...         ...  ...       ...       ...   ...       ...       ...   ...   \n",
       "11419  0.011916  0.0  0.008984  0.008788   0.0  0.010071  0.000085   111   \n",
       "11420  0.010992  0.0  0.007969  0.007856   0.0  0.008118  0.000053   329   \n",
       "11421  0.013346  0.0  0.007656  0.007775   0.0  0.008667  0.000102   178   \n",
       "11422  0.016289  0.0  0.008438  0.008744   0.0  0.009216  0.000110   341   \n",
       "11423  0.014249  0.0  0.007578  0.007562   0.0  0.008118  0.000094   170   \n",
       "\n",
       "            MFL  Label  \n",
       "0      0.308904      0  \n",
       "1      0.515437      0  \n",
       "2      0.478824      0  \n",
       "3      0.159428      0  \n",
       "4     -0.031311      0  \n",
       "...         ...    ...  \n",
       "11419 -1.078758      5  \n",
       "11420 -1.113824      5  \n",
       "11421 -1.029542      5  \n",
       "11422 -0.943020      5  \n",
       "11423 -1.001116      5  \n",
       "\n",
       "[11424 rows x 18 columns]"
      ]
     },
     "execution_count": 2,
     "metadata": {},
     "output_type": "execute_result"
    }
   ],
   "source": [
    "df = pd.read_csv(r\"C:\\Users\\hpalm\\Desktop\\Programacion\\Datos_6000_MYO\\Caracteristicas_@\\p01-caracteristicas.csv\")\n",
    "df"
   ]
  },
  {
   "attachments": {},
   "cell_type": "markdown",
   "metadata": {},
   "source": [
    "# **Train and Test set**"
   ]
  },
  {
   "cell_type": "code",
   "execution_count": 3,
   "metadata": {},
   "outputs": [],
   "source": [
    "X = df.iloc[:,[2,4,5,12,15]]   # features matrix \n",
    "y = df.iloc[:,[17]]      # target variable"
   ]
  },
  {
   "cell_type": "code",
   "execution_count": 4,
   "metadata": {},
   "outputs": [
    {
     "data": {
      "text/html": [
       "<div>\n",
       "<style scoped>\n",
       "    .dataframe tbody tr th:only-of-type {\n",
       "        vertical-align: middle;\n",
       "    }\n",
       "\n",
       "    .dataframe tbody tr th {\n",
       "        vertical-align: top;\n",
       "    }\n",
       "\n",
       "    .dataframe thead th {\n",
       "        text-align: right;\n",
       "    }\n",
       "</style>\n",
       "<table border=\"1\" class=\"dataframe\">\n",
       "  <thead>\n",
       "    <tr style=\"text-align: right;\">\n",
       "      <th></th>\n",
       "      <th>MAV</th>\n",
       "      <th>ZC</th>\n",
       "      <th>SSC</th>\n",
       "      <th>MYOP</th>\n",
       "      <th>WAMP</th>\n",
       "    </tr>\n",
       "  </thead>\n",
       "  <tbody>\n",
       "    <tr>\n",
       "      <th>0</th>\n",
       "      <td>0.127188</td>\n",
       "      <td>28</td>\n",
       "      <td>5</td>\n",
       "      <td>0.0</td>\n",
       "      <td>142</td>\n",
       "    </tr>\n",
       "    <tr>\n",
       "      <th>1</th>\n",
       "      <td>0.213594</td>\n",
       "      <td>30</td>\n",
       "      <td>9</td>\n",
       "      <td>0.0</td>\n",
       "      <td>121</td>\n",
       "    </tr>\n",
       "    <tr>\n",
       "      <th>2</th>\n",
       "      <td>0.215312</td>\n",
       "      <td>27</td>\n",
       "      <td>5</td>\n",
       "      <td>0.0</td>\n",
       "      <td>105</td>\n",
       "    </tr>\n",
       "    <tr>\n",
       "      <th>3</th>\n",
       "      <td>0.089531</td>\n",
       "      <td>24</td>\n",
       "      <td>6</td>\n",
       "      <td>0.0</td>\n",
       "      <td>102</td>\n",
       "    </tr>\n",
       "    <tr>\n",
       "      <th>4</th>\n",
       "      <td>0.063281</td>\n",
       "      <td>28</td>\n",
       "      <td>6</td>\n",
       "      <td>0.0</td>\n",
       "      <td>61</td>\n",
       "    </tr>\n",
       "    <tr>\n",
       "      <th>...</th>\n",
       "      <td>...</td>\n",
       "      <td>...</td>\n",
       "      <td>...</td>\n",
       "      <td>...</td>\n",
       "      <td>...</td>\n",
       "    </tr>\n",
       "    <tr>\n",
       "      <th>11419</th>\n",
       "      <td>0.012031</td>\n",
       "      <td>2</td>\n",
       "      <td>2</td>\n",
       "      <td>0.0</td>\n",
       "      <td>111</td>\n",
       "    </tr>\n",
       "    <tr>\n",
       "      <th>11420</th>\n",
       "      <td>0.010781</td>\n",
       "      <td>2</td>\n",
       "      <td>16</td>\n",
       "      <td>0.0</td>\n",
       "      <td>329</td>\n",
       "    </tr>\n",
       "    <tr>\n",
       "      <th>11421</th>\n",
       "      <td>0.010313</td>\n",
       "      <td>9</td>\n",
       "      <td>4</td>\n",
       "      <td>0.0</td>\n",
       "      <td>178</td>\n",
       "    </tr>\n",
       "    <tr>\n",
       "      <th>11422</th>\n",
       "      <td>0.011094</td>\n",
       "      <td>9</td>\n",
       "      <td>14</td>\n",
       "      <td>0.0</td>\n",
       "      <td>341</td>\n",
       "    </tr>\n",
       "    <tr>\n",
       "      <th>11423</th>\n",
       "      <td>0.009844</td>\n",
       "      <td>8</td>\n",
       "      <td>12</td>\n",
       "      <td>0.0</td>\n",
       "      <td>170</td>\n",
       "    </tr>\n",
       "  </tbody>\n",
       "</table>\n",
       "<p>11424 rows × 5 columns</p>\n",
       "</div>"
      ],
      "text/plain": [
       "            MAV  ZC  SSC  MYOP  WAMP\n",
       "0      0.127188  28    5   0.0   142\n",
       "1      0.213594  30    9   0.0   121\n",
       "2      0.215312  27    5   0.0   105\n",
       "3      0.089531  24    6   0.0   102\n",
       "4      0.063281  28    6   0.0    61\n",
       "...         ...  ..  ...   ...   ...\n",
       "11419  0.012031   2    2   0.0   111\n",
       "11420  0.010781   2   16   0.0   329\n",
       "11421  0.010313   9    4   0.0   178\n",
       "11422  0.011094   9   14   0.0   341\n",
       "11423  0.009844   8   12   0.0   170\n",
       "\n",
       "[11424 rows x 5 columns]"
      ]
     },
     "execution_count": 4,
     "metadata": {},
     "output_type": "execute_result"
    }
   ],
   "source": [
    "X"
   ]
  },
  {
   "cell_type": "code",
   "execution_count": 5,
   "metadata": {},
   "outputs": [
    {
     "name": "stdout",
     "output_type": "stream",
     "text": [
      "Testing data shape :  (2285, 5) (2285, 1)\n",
      "Training data shape :  (9139, 5) (9139, 1)\n"
     ]
    }
   ],
   "source": [
    "# Split data into train, test and validatio sets \n",
    "\n",
    "X_train, X_test, y_train, y_test= train_test_split(X, y,test_size=0.2,random_state=1)\n",
    "#X_train, X_val, y_train, y_val= train_test_split(X_train, y_train,test_size=0.2,random_state=0, stratify=y_train)\n",
    "\n",
    "print('Testing data shape : ', X_test.shape, y_test.shape)\n",
    "print('Training data shape : ', X_train.shape, y_train.shape)\n",
    "#print('validation data shape : ', X_val.shape, y_val.shape)"
   ]
  },
  {
   "cell_type": "code",
   "execution_count": 7,
   "metadata": {},
   "outputs": [],
   "source": [
    "# Feature Scaling because yes we don't want one independent variable dominating the other and it makes computations easy\n",
    "from sklearn.preprocessing import StandardScaler\n",
    "sc = StandardScaler()\n",
    "X_train = sc.fit_transform(X_train)\n",
    "X_test = sc.transform(X_test)\n",
    "#X_val = sc.transform(X_val)"
   ]
  },
  {
   "cell_type": "code",
   "execution_count": 7,
   "metadata": {},
   "outputs": [
    {
     "name": "stderr",
     "output_type": "stream",
     "text": [
      "c:\\Users\\hpalm\\anaconda3\\envs\\tfradeon\\lib\\site-packages\\ipykernel_launcher.py:9: SettingWithCopyWarning: \n",
      "A value is trying to be set on a copy of a slice from a DataFrame.\n",
      "Try using .loc[row_indexer,col_indexer] = value instead\n",
      "\n",
      "See the caveats in the documentation: https://pandas.pydata.org/pandas-docs/stable/user_guide/indexing.html#returning-a-view-versus-a-copy\n",
      "  if __name__ == '__main__':\n",
      "c:\\Users\\hpalm\\anaconda3\\envs\\tfradeon\\lib\\site-packages\\pandas\\core\\indexing.py:1734: SettingWithCopyWarning: \n",
      "A value is trying to be set on a copy of a slice from a DataFrame.\n",
      "Try using .loc[row_indexer,col_indexer] = value instead\n",
      "\n",
      "See the caveats in the documentation: https://pandas.pydata.org/pandas-docs/stable/user_guide/indexing.html#returning-a-view-versus-a-copy\n",
      "  isetter(loc, value[:, i].tolist())\n"
     ]
    }
   ],
   "source": [
    "from sklearn.preprocessing import StandardScaler\n",
    "# Specify the columns you want to standardize\n",
    "columns_to_standardize = ['ZC', 'SSC', 'WAMP']\n",
    "\n",
    "# Initialize the StandardScaler\n",
    "scaler = StandardScaler()\n",
    "\n",
    "# Fit the scaler on the selected columns and transform the data\n",
    "X_train[columns_to_standardize] = scaler.fit_transform(X_train[columns_to_standardize])"
   ]
  },
  {
   "cell_type": "code",
   "execution_count": 8,
   "metadata": {},
   "outputs": [
    {
     "data": {
      "text/html": [
       "<div>\n",
       "<style scoped>\n",
       "    .dataframe tbody tr th:only-of-type {\n",
       "        vertical-align: middle;\n",
       "    }\n",
       "\n",
       "    .dataframe tbody tr th {\n",
       "        vertical-align: top;\n",
       "    }\n",
       "\n",
       "    .dataframe thead th {\n",
       "        text-align: right;\n",
       "    }\n",
       "</style>\n",
       "<table border=\"1\" class=\"dataframe\">\n",
       "  <thead>\n",
       "    <tr style=\"text-align: right;\">\n",
       "      <th></th>\n",
       "      <th>MAV</th>\n",
       "      <th>ZC</th>\n",
       "      <th>SSC</th>\n",
       "      <th>MYOP</th>\n",
       "      <th>WAMP</th>\n",
       "    </tr>\n",
       "  </thead>\n",
       "  <tbody>\n",
       "    <tr>\n",
       "      <th>8823</th>\n",
       "      <td>0.134531</td>\n",
       "      <td>0.544258</td>\n",
       "      <td>-0.216344</td>\n",
       "      <td>0.62</td>\n",
       "      <td>0.026472</td>\n",
       "    </tr>\n",
       "    <tr>\n",
       "      <th>1947</th>\n",
       "      <td>0.017969</td>\n",
       "      <td>-0.749638</td>\n",
       "      <td>0.384072</td>\n",
       "      <td>0.82</td>\n",
       "      <td>1.365788</td>\n",
       "    </tr>\n",
       "    <tr>\n",
       "      <th>10600</th>\n",
       "      <td>0.008906</td>\n",
       "      <td>-2.278787</td>\n",
       "      <td>1.885111</td>\n",
       "      <td>0.00</td>\n",
       "      <td>2.074186</td>\n",
       "    </tr>\n",
       "    <tr>\n",
       "      <th>4627</th>\n",
       "      <td>0.017500</td>\n",
       "      <td>-0.514384</td>\n",
       "      <td>0.384072</td>\n",
       "      <td>0.18</td>\n",
       "      <td>-0.980782</td>\n",
       "    </tr>\n",
       "    <tr>\n",
       "      <th>8320</th>\n",
       "      <td>0.110937</td>\n",
       "      <td>0.309004</td>\n",
       "      <td>-0.216344</td>\n",
       "      <td>0.66</td>\n",
       "      <td>-0.150627</td>\n",
       "    </tr>\n",
       "    <tr>\n",
       "      <th>...</th>\n",
       "      <td>...</td>\n",
       "      <td>...</td>\n",
       "      <td>...</td>\n",
       "      <td>...</td>\n",
       "      <td>...</td>\n",
       "    </tr>\n",
       "    <tr>\n",
       "      <th>7813</th>\n",
       "      <td>0.117656</td>\n",
       "      <td>0.897138</td>\n",
       "      <td>0.684280</td>\n",
       "      <td>0.00</td>\n",
       "      <td>0.513496</td>\n",
       "    </tr>\n",
       "    <tr>\n",
       "      <th>10955</th>\n",
       "      <td>0.008281</td>\n",
       "      <td>-2.278787</td>\n",
       "      <td>1.284696</td>\n",
       "      <td>0.00</td>\n",
       "      <td>0.480290</td>\n",
       "    </tr>\n",
       "    <tr>\n",
       "      <th>905</th>\n",
       "      <td>0.201875</td>\n",
       "      <td>0.073750</td>\n",
       "      <td>-1.417176</td>\n",
       "      <td>0.00</td>\n",
       "      <td>-0.748339</td>\n",
       "    </tr>\n",
       "    <tr>\n",
       "      <th>5192</th>\n",
       "      <td>0.056719</td>\n",
       "      <td>-0.279131</td>\n",
       "      <td>-0.816760</td>\n",
       "      <td>0.00</td>\n",
       "      <td>-1.168950</td>\n",
       "    </tr>\n",
       "    <tr>\n",
       "      <th>235</th>\n",
       "      <td>0.021719</td>\n",
       "      <td>-0.279131</td>\n",
       "      <td>0.083864</td>\n",
       "      <td>0.00</td>\n",
       "      <td>-0.349864</td>\n",
       "    </tr>\n",
       "  </tbody>\n",
       "</table>\n",
       "<p>9139 rows × 5 columns</p>\n",
       "</div>"
      ],
      "text/plain": [
       "            MAV        ZC       SSC  MYOP      WAMP\n",
       "8823   0.134531  0.544258 -0.216344  0.62  0.026472\n",
       "1947   0.017969 -0.749638  0.384072  0.82  1.365788\n",
       "10600  0.008906 -2.278787  1.885111  0.00  2.074186\n",
       "4627   0.017500 -0.514384  0.384072  0.18 -0.980782\n",
       "8320   0.110937  0.309004 -0.216344  0.66 -0.150627\n",
       "...         ...       ...       ...   ...       ...\n",
       "7813   0.117656  0.897138  0.684280  0.00  0.513496\n",
       "10955  0.008281 -2.278787  1.284696  0.00  0.480290\n",
       "905    0.201875  0.073750 -1.417176  0.00 -0.748339\n",
       "5192   0.056719 -0.279131 -0.816760  0.00 -1.168950\n",
       "235    0.021719 -0.279131  0.083864  0.00 -0.349864\n",
       "\n",
       "[9139 rows x 5 columns]"
      ]
     },
     "execution_count": 8,
     "metadata": {},
     "output_type": "execute_result"
    }
   ],
   "source": [
    "X_train"
   ]
  },
  {
   "attachments": {},
   "cell_type": "markdown",
   "metadata": {},
   "source": [
    "# **Build SVM and train**"
   ]
  },
  {
   "cell_type": "code",
   "execution_count": 9,
   "metadata": {},
   "outputs": [],
   "source": [
    "import numpy as np\n",
    "from sklearn.model_selection import train_test_split\n",
    "from sklearn.svm import SVC\n",
    "from sklearn import preprocessing\n",
    "from sklearn import utils\n",
    "from sklearn.model_selection import GridSearchCV"
   ]
  },
  {
   "cell_type": "code",
   "execution_count": 10,
   "metadata": {},
   "outputs": [
    {
     "name": "stderr",
     "output_type": "stream",
     "text": [
      "c:\\Users\\hpalm\\anaconda3\\envs\\tfradeon\\lib\\site-packages\\sklearn\\utils\\validation.py:63: DataConversionWarning: A column-vector y was passed when a 1d array was expected. Please change the shape of y to (n_samples, ), for example using ravel().\n",
      "  return f(*args, **kwargs)\n"
     ]
    },
    {
     "data": {
      "text/plain": [
       "SVC(C=1, kernel='linear')"
      ]
     },
     "execution_count": 10,
     "metadata": {},
     "output_type": "execute_result"
    }
   ],
   "source": [
    "svm_model = SVC(kernel='linear', C=1)\n",
    "\n",
    "# Train the model on the training data\n",
    "svm_model.fit(X_train, y_train)"
   ]
  },
  {
   "cell_type": "code",
   "execution_count": 11,
   "metadata": {},
   "outputs": [
    {
     "name": "stdout",
     "output_type": "stream",
     "text": [
      "Accuracy: 0.3190371991247265\n"
     ]
    }
   ],
   "source": [
    "# Predict on the testing data\n",
    "y_pred = svm_model.predict(X_test)\n",
    "\n",
    "# Calculate accuracy\n",
    "accuracy = accuracy_score(y_test, y_pred)\n",
    "\n",
    "print(\"Accuracy:\", accuracy)"
   ]
  },
  {
   "attachments": {},
   "cell_type": "markdown",
   "metadata": {},
   "source": [
    "# **Confusion Matrix**"
   ]
  },
  {
   "cell_type": "code",
   "execution_count": 12,
   "metadata": {},
   "outputs": [],
   "source": [
    "from sklearn.metrics import confusion_matrix\n",
    "import pandas as pd\n",
    "\n",
    "# Assuming clf is your trained SVM model and X_test, y_test are your test data and labels, respectively\n",
    "y_pred = svm_model.predict(X_test)\n",
    "cm = confusion_matrix(y_test, y_pred)\n",
    "df_cm = pd.DataFrame(cm, index = [i for i in range(6)],\n",
    "                  columns = [i for i in range(6)])"
   ]
  },
  {
   "cell_type": "code",
   "execution_count": 14,
   "metadata": {},
   "outputs": [
    {
     "data": {
      "image/png": "[encoded data removed]",
      "text/plain": [
       "<Figure size 432x288 with 2 Axes>"
      ]
     },
     "metadata": {
      "needs_background": "light"
     },
     "output_type": "display_data"
    }
   ],
   "source": [
    "labels=[\"AP\", \"PI\", \"PO\", \"MO\", \"AT\", \"RE\"] #Con Reposo\n",
    "#labels=[\"AP\", \"PI\", \"PO\", \"MO\", \"AT\"] #Sin Reposo\n",
    "df_cm = pd.DataFrame(cm, labels, labels)\n",
    "ax = sns.heatmap(df_cm, annot=True, annot_kws={\"size\": 16}, square=True, cbar=True, fmt='g')\n",
    "ax.set_ylim(0, 6) \n",
    "plt.xlabel(\"Predicted\") \n",
    "plt.ylabel(\"Actual\") \n",
    "ax.invert_yaxis() \n",
    "plt.show()"
   ]
  },
  {
   "attachments": {},
   "cell_type": "markdown",
   "metadata": {},
   "source": [
    "# **Metrics**"
   ]
  },
  {
   "cell_type": "code",
   "execution_count": null,
   "metadata": {},
   "outputs": [],
   "source": [
    "from sklearn.metrics import accuracy_score, precision_score, recall_score, f1_score\n",
    "\n",
    "\n",
    "y_pred = svm_model.predict(X_test)\n",
    "accuracy = accuracy_score(y_test, y_pred)\n",
    "precision = precision_score(y_test, y_pred, average='weighted')\n",
    "recall = recall_score(y_test, y_pred, average='weighted')\n",
    "f1 = f1_score(y_test, y_pred, average='weighted')\n",
    "\n",
    "print('Accuracy: ', \"%.2f\" % (accuracy*100))\n",
    "print('F1 : ', \"%.2f\" % (precision*100))\n",
    "print('Recall_Score: ', \"%.2f\" % (recall*100))\n",
    "print('Precision : ', \"%.2f\" % (f1*100))"
   ]
  },
  {
   "cell_type": "code",
   "execution_count": null,
   "metadata": {},
   "outputs": [],
   "source": [
    "from sklearn.metrics import classification_report\n",
    "print(classification_report(y_test, y_pred))"
   ]
  },
  {
   "cell_type": "markdown",
   "metadata": {},
   "source": [
    "# **All-to-one**"
   ]
  },
  {
   "cell_type": "code",
   "execution_count": null,
   "metadata": {},
   "outputs": [],
   "source": [
    "import pandas as pd \n",
    "import glob\n",
    "import matplotlib.pyplot as plt\n",
    "from sklearn import svm\n",
    "from sklearn.model_selection import train_test_split\n",
    "from sklearn.metrics import accuracy_score\n",
    "import seaborn as sns"
   ]
  },
  {
   "cell_type": "code",
   "execution_count": null,
   "metadata": {},
   "outputs": [],
   "source": [
    "csv_files = glob.glob(r'C:\\Users\\hpalm\\Desktop\\Programacion\\Datos_6000_MYO\\Caracteristicas\\*.csv')\n",
    "\n",
    "dataframes =[]"
   ]
  },
  {
   "cell_type": "code",
   "execution_count": null,
   "metadata": {},
   "outputs": [],
   "source": [
    "for csv_file in csv_files:\n",
    "    df = pd.read_csv(csv_file)\n",
    "    dataframes.append(df)"
   ]
  },
  {
   "cell_type": "code",
   "execution_count": null,
   "metadata": {},
   "outputs": [],
   "source": [
    "all_to_one_df = pd.concat(dataframes, ignore_index=True)\n",
    "\n",
    "\n",
    "all_to_one_df.sort_values(by=all_to_one_df.columns[6],inplace=True)\n",
    "\n",
    "\n",
    "all_to_one_df.reset_index(drop=True,inplace=True)"
   ]
  },
  {
   "cell_type": "code",
   "execution_count": null,
   "metadata": {},
   "outputs": [],
   "source": [
    "all_to_one_df"
   ]
  },
  {
   "cell_type": "markdown",
   "metadata": {},
   "source": [
    "# **SVM**"
   ]
  },
  {
   "cell_type": "code",
   "execution_count": null,
   "metadata": {},
   "outputs": [],
   "source": [
    "X = all_to_one_df.iloc[:,0:5]    # features matrix \n",
    "y = all_to_one_df.iloc[:,[6]]       # target variable"
   ]
  },
  {
   "cell_type": "code",
   "execution_count": null,
   "metadata": {},
   "outputs": [],
   "source": [
    "X"
   ]
  },
  {
   "cell_type": "code",
   "execution_count": null,
   "metadata": {},
   "outputs": [],
   "source": [
    "# Split data into train, test and validatio sets \n",
    "\n",
    "X_train, X_test, y_train, y_test= train_test_split(X, y,test_size=0.2,random_state=0, stratify=y)\n",
    "#X_train, X_val, y_train, y_val= train_test_split(X_train, y_train,test_size=0.2,random_state=0, stratify=y_train)\n",
    "\n",
    "print('Testing data shape : ', X_test.shape, y_test.shape)\n",
    "print('Training data shape : ', X_train.shape, y_train.shape)\n",
    "#print('validation data shape : ', X_val.shape, y_val.shape)"
   ]
  },
  {
   "cell_type": "code",
   "execution_count": null,
   "metadata": {},
   "outputs": [],
   "source": [
    "# Feature Scaling because yes we don't want one independent variable dominating the other and it makes computations easy\n",
    "from sklearn.preprocessing import StandardScaler\n",
    "sc = StandardScaler()\n",
    "X_train = sc.fit_transform(X_train)\n",
    "X_test = sc.transform(X_test)\n",
    "#X_val = sc.transform(X_val)"
   ]
  },
  {
   "cell_type": "code",
   "execution_count": null,
   "metadata": {},
   "outputs": [],
   "source": [
    "X_train"
   ]
  },
  {
   "cell_type": "code",
   "execution_count": null,
   "metadata": {},
   "outputs": [],
   "source": [
    "# Create an SVM classifier\n",
    "clf = svm.SVC()"
   ]
  },
  {
   "cell_type": "code",
   "execution_count": null,
   "metadata": {},
   "outputs": [],
   "source": [
    "# Train the model\n",
    "model = clf.fit(X_train, y_train)"
   ]
  },
  {
   "cell_type": "code",
   "execution_count": null,
   "metadata": {},
   "outputs": [],
   "source": [
    "# Make predictions on the test set\n",
    "y_pred = clf.predict(X_test)"
   ]
  },
  {
   "cell_type": "code",
   "execution_count": null,
   "metadata": {},
   "outputs": [],
   "source": [
    "# Calculate the accuracy of the model\n",
    "accuracy = accuracy_score(y_test, y_pred)"
   ]
  },
  {
   "cell_type": "code",
   "execution_count": null,
   "metadata": {},
   "outputs": [],
   "source": [
    "accuracy"
   ]
  }
 ],
 "metadata": {
  "kernelspec": {
   "display_name": "tfradeon",
   "language": "python",
   "name": "python3"
  },
  "language_info": {
   "codemirror_mode": {
    "name": "ipython",
    "version": 3
   },
   "file_extension": ".py",
   "mimetype": "text/x-python",
   "name": "python",
   "nbconvert_exporter": "python",
   "pygments_lexer": "ipython3",
   "version": "3.6.13"
  },
  "orig_nbformat": 4
 },
 "nbformat": 4,
 "nbformat_minor": 2
}
