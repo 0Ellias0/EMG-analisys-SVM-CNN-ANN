{
 "cells": [
  {
   "attachments": {},
   "cell_type": "markdown",
   "metadata": {},
   "source": [
    "# **Libraries**"
   ]
  },
  {
   "cell_type": "code",
   "execution_count": 1,
   "metadata": {},
   "outputs": [],
   "source": [
    "import numpy as np\n",
    "import pandas as pd\n",
    "import tensorflow as tf\n",
    "import matplotlib.pyplot as plt\n",
    "from sklearn import svm\n",
    "from sklearn.model_selection import train_test_split\n",
    "from sklearn.metrics import accuracy_score\n",
    "import seaborn as sns"
   ]
  },
  {
   "attachments": {},
   "cell_type": "markdown",
   "metadata": {},
   "source": [
    "# **Import EMG Feature (CSV file)**"
   ]
  },
  {
   "cell_type": "code",
   "execution_count": 2,
   "metadata": {},
   "outputs": [
    {
     "data": {
      "text/html": [
       "<div>\n",
       "<style scoped>\n",
       "    .dataframe tbody tr th:only-of-type {\n",
       "        vertical-align: middle;\n",
       "    }\n",
       "\n",
       "    .dataframe tbody tr th {\n",
       "        vertical-align: top;\n",
       "    }\n",
       "\n",
       "    .dataframe thead th {\n",
       "        text-align: right;\n",
       "    }\n",
       "</style>\n",
       "<table border=\"1\" class=\"dataframe\">\n",
       "  <thead>\n",
       "    <tr style=\"text-align: right;\">\n",
       "      <th></th>\n",
       "      <th>EMAV</th>\n",
       "      <th>EWL</th>\n",
       "      <th>MAV</th>\n",
       "      <th>WL</th>\n",
       "      <th>ZC</th>\n",
       "      <th>SSC</th>\n",
       "      <th>RMS</th>\n",
       "      <th>AAC</th>\n",
       "      <th>DASDV</th>\n",
       "      <th>LD</th>\n",
       "      <th>MMAV</th>\n",
       "      <th>MMAV2</th>\n",
       "      <th>MYOP</th>\n",
       "      <th>SSI</th>\n",
       "      <th>VAR</th>\n",
       "      <th>WAMP</th>\n",
       "      <th>MFL</th>\n",
       "      <th>Label</th>\n",
       "    </tr>\n",
       "  </thead>\n",
       "  <tbody>\n",
       "    <tr>\n",
       "      <th>0</th>\n",
       "      <td>0.249385</td>\n",
       "      <td>16.725057</td>\n",
       "      <td>0.127188</td>\n",
       "      <td>10.500000</td>\n",
       "      <td>28</td>\n",
       "      <td>5</td>\n",
       "      <td>0.174986</td>\n",
       "      <td>0.214286</td>\n",
       "      <td>0.290942</td>\n",
       "      <td>0.0</td>\n",
       "      <td>0.101328</td>\n",
       "      <td>0.101069</td>\n",
       "      <td>0.0</td>\n",
       "      <td>1.531006</td>\n",
       "      <td>0.030615</td>\n",
       "      <td>142</td>\n",
       "      <td>0.308904</td>\n",
       "      <td>0</td>\n",
       "    </tr>\n",
       "    <tr>\n",
       "      <th>1</th>\n",
       "      <td>0.345478</td>\n",
       "      <td>22.345027</td>\n",
       "      <td>0.213594</td>\n",
       "      <td>17.648438</td>\n",
       "      <td>30</td>\n",
       "      <td>9</td>\n",
       "      <td>0.278894</td>\n",
       "      <td>0.360172</td>\n",
       "      <td>0.468100</td>\n",
       "      <td>0.0</td>\n",
       "      <td>0.180547</td>\n",
       "      <td>0.181525</td>\n",
       "      <td>0.0</td>\n",
       "      <td>3.889099</td>\n",
       "      <td>0.077713</td>\n",
       "      <td>121</td>\n",
       "      <td>0.515437</td>\n",
       "      <td>0</td>\n",
       "    </tr>\n",
       "    <tr>\n",
       "      <th>2</th>\n",
       "      <td>0.348532</td>\n",
       "      <td>20.233636</td>\n",
       "      <td>0.215312</td>\n",
       "      <td>15.507812</td>\n",
       "      <td>27</td>\n",
       "      <td>5</td>\n",
       "      <td>0.286535</td>\n",
       "      <td>0.316486</td>\n",
       "      <td>0.430255</td>\n",
       "      <td>0.0</td>\n",
       "      <td>0.171719</td>\n",
       "      <td>0.168937</td>\n",
       "      <td>0.0</td>\n",
       "      <td>4.105103</td>\n",
       "      <td>0.081774</td>\n",
       "      <td>105</td>\n",
       "      <td>0.478824</td>\n",
       "      <td>0</td>\n",
       "    </tr>\n",
       "    <tr>\n",
       "      <th>3</th>\n",
       "      <td>0.198188</td>\n",
       "      <td>11.331826</td>\n",
       "      <td>0.089531</td>\n",
       "      <td>6.460938</td>\n",
       "      <td>24</td>\n",
       "      <td>6</td>\n",
       "      <td>0.133596</td>\n",
       "      <td>0.131856</td>\n",
       "      <td>0.206220</td>\n",
       "      <td>0.0</td>\n",
       "      <td>0.071094</td>\n",
       "      <td>0.070806</td>\n",
       "      <td>0.0</td>\n",
       "      <td>0.892395</td>\n",
       "      <td>0.017807</td>\n",
       "      <td>102</td>\n",
       "      <td>0.159428</td>\n",
       "      <td>0</td>\n",
       "    </tr>\n",
       "    <tr>\n",
       "      <th>4</th>\n",
       "      <td>0.165035</td>\n",
       "      <td>9.825415</td>\n",
       "      <td>0.063281</td>\n",
       "      <td>4.921875</td>\n",
       "      <td>28</td>\n",
       "      <td>6</td>\n",
       "      <td>0.086356</td>\n",
       "      <td>0.100446</td>\n",
       "      <td>0.132920</td>\n",
       "      <td>0.0</td>\n",
       "      <td>0.048594</td>\n",
       "      <td>0.046594</td>\n",
       "      <td>0.0</td>\n",
       "      <td>0.372864</td>\n",
       "      <td>0.007408</td>\n",
       "      <td>61</td>\n",
       "      <td>-0.031311</td>\n",
       "      <td>0</td>\n",
       "    </tr>\n",
       "    <tr>\n",
       "      <th>...</th>\n",
       "      <td>...</td>\n",
       "      <td>...</td>\n",
       "      <td>...</td>\n",
       "      <td>...</td>\n",
       "      <td>...</td>\n",
       "      <td>...</td>\n",
       "      <td>...</td>\n",
       "      <td>...</td>\n",
       "      <td>...</td>\n",
       "      <td>...</td>\n",
       "      <td>...</td>\n",
       "      <td>...</td>\n",
       "      <td>...</td>\n",
       "      <td>...</td>\n",
       "      <td>...</td>\n",
       "      <td>...</td>\n",
       "      <td>...</td>\n",
       "      <td>...</td>\n",
       "    </tr>\n",
       "    <tr>\n",
       "      <th>11419</th>\n",
       "      <td>0.064414</td>\n",
       "      <td>2.109120</td>\n",
       "      <td>0.012031</td>\n",
       "      <td>0.453125</td>\n",
       "      <td>2</td>\n",
       "      <td>2</td>\n",
       "      <td>0.014192</td>\n",
       "      <td>0.009247</td>\n",
       "      <td>0.011916</td>\n",
       "      <td>0.0</td>\n",
       "      <td>0.008984</td>\n",
       "      <td>0.008788</td>\n",
       "      <td>0.0</td>\n",
       "      <td>0.010071</td>\n",
       "      <td>0.000085</td>\n",
       "      <td>111</td>\n",
       "      <td>-1.078758</td>\n",
       "      <td>5</td>\n",
       "    </tr>\n",
       "    <tr>\n",
       "      <th>11420</th>\n",
       "      <td>0.058943</td>\n",
       "      <td>2.338054</td>\n",
       "      <td>0.010781</td>\n",
       "      <td>0.429688</td>\n",
       "      <td>2</td>\n",
       "      <td>16</td>\n",
       "      <td>0.012742</td>\n",
       "      <td>0.008769</td>\n",
       "      <td>0.010992</td>\n",
       "      <td>0.0</td>\n",
       "      <td>0.007969</td>\n",
       "      <td>0.007856</td>\n",
       "      <td>0.0</td>\n",
       "      <td>0.008118</td>\n",
       "      <td>0.000053</td>\n",
       "      <td>329</td>\n",
       "      <td>-1.113824</td>\n",
       "      <td>5</td>\n",
       "    </tr>\n",
       "    <tr>\n",
       "      <th>11421</th>\n",
       "      <td>0.054512</td>\n",
       "      <td>3.082856</td>\n",
       "      <td>0.010313</td>\n",
       "      <td>0.585938</td>\n",
       "      <td>9</td>\n",
       "      <td>4</td>\n",
       "      <td>0.013166</td>\n",
       "      <td>0.011958</td>\n",
       "      <td>0.013346</td>\n",
       "      <td>0.0</td>\n",
       "      <td>0.007656</td>\n",
       "      <td>0.007775</td>\n",
       "      <td>0.0</td>\n",
       "      <td>0.008667</td>\n",
       "      <td>0.000102</td>\n",
       "      <td>178</td>\n",
       "      <td>-1.029542</td>\n",
       "      <td>5</td>\n",
       "    </tr>\n",
       "    <tr>\n",
       "      <th>11422</th>\n",
       "      <td>0.056930</td>\n",
       "      <td>3.021143</td>\n",
       "      <td>0.011094</td>\n",
       "      <td>0.648438</td>\n",
       "      <td>9</td>\n",
       "      <td>14</td>\n",
       "      <td>0.013577</td>\n",
       "      <td>0.013233</td>\n",
       "      <td>0.016289</td>\n",
       "      <td>0.0</td>\n",
       "      <td>0.008438</td>\n",
       "      <td>0.008744</td>\n",
       "      <td>0.0</td>\n",
       "      <td>0.009216</td>\n",
       "      <td>0.000110</td>\n",
       "      <td>341</td>\n",
       "      <td>-0.943020</td>\n",
       "      <td>5</td>\n",
       "    </tr>\n",
       "    <tr>\n",
       "      <th>11423</th>\n",
       "      <td>0.052117</td>\n",
       "      <td>2.726399</td>\n",
       "      <td>0.009844</td>\n",
       "      <td>0.554688</td>\n",
       "      <td>8</td>\n",
       "      <td>12</td>\n",
       "      <td>0.012742</td>\n",
       "      <td>0.011320</td>\n",
       "      <td>0.014249</td>\n",
       "      <td>0.0</td>\n",
       "      <td>0.007578</td>\n",
       "      <td>0.007562</td>\n",
       "      <td>0.0</td>\n",
       "      <td>0.008118</td>\n",
       "      <td>0.000094</td>\n",
       "      <td>170</td>\n",
       "      <td>-1.001116</td>\n",
       "      <td>5</td>\n",
       "    </tr>\n",
       "  </tbody>\n",
       "</table>\n",
       "<p>11424 rows × 18 columns</p>\n",
       "</div>"
      ],
      "text/plain": [
       "           EMAV        EWL       MAV         WL  ZC  SSC       RMS       AAC  \\\n",
       "0      0.249385  16.725057  0.127188  10.500000  28    5  0.174986  0.214286   \n",
       "1      0.345478  22.345027  0.213594  17.648438  30    9  0.278894  0.360172   \n",
       "2      0.348532  20.233636  0.215312  15.507812  27    5  0.286535  0.316486   \n",
       "3      0.198188  11.331826  0.089531   6.460938  24    6  0.133596  0.131856   \n",
       "4      0.165035   9.825415  0.063281   4.921875  28    6  0.086356  0.100446   \n",
       "...         ...        ...       ...        ...  ..  ...       ...       ...   \n",
       "11419  0.064414   2.109120  0.012031   0.453125   2    2  0.014192  0.009247   \n",
       "11420  0.058943   2.338054  0.010781   0.429688   2   16  0.012742  0.008769   \n",
       "11421  0.054512   3.082856  0.010313   0.585938   9    4  0.013166  0.011958   \n",
       "11422  0.056930   3.021143  0.011094   0.648438   9   14  0.013577  0.013233   \n",
       "11423  0.052117   2.726399  0.009844   0.554688   8   12  0.012742  0.011320   \n",
       "\n",
       "          DASDV   LD      MMAV     MMAV2  MYOP       SSI       VAR  WAMP  \\\n",
       "0      0.290942  0.0  0.101328  0.101069   0.0  1.531006  0.030615   142   \n",
       "1      0.468100  0.0  0.180547  0.181525   0.0  3.889099  0.077713   121   \n",
       "2      0.430255  0.0  0.171719  0.168937   0.0  4.105103  0.081774   105   \n",
       "3      0.206220  0.0  0.071094  0.070806   0.0  0.892395  0.017807   102   \n",
       "4      0.132920  0.0  0.048594  0.046594   0.0  0.372864  0.007408    61   \n",
       "...         ...  ...       ...       ...   ...       ...       ...   ...   \n",
       "11419  0.011916  0.0  0.008984  0.008788   0.0  0.010071  0.000085   111   \n",
       "11420  0.010992  0.0  0.007969  0.007856   0.0  0.008118  0.000053   329   \n",
       "11421  0.013346  0.0  0.007656  0.007775   0.0  0.008667  0.000102   178   \n",
       "11422  0.016289  0.0  0.008438  0.008744   0.0  0.009216  0.000110   341   \n",
       "11423  0.014249  0.0  0.007578  0.007562   0.0  0.008118  0.000094   170   \n",
       "\n",
       "            MFL  Label  \n",
       "0      0.308904      0  \n",
       "1      0.515437      0  \n",
       "2      0.478824      0  \n",
       "3      0.159428      0  \n",
       "4     -0.031311      0  \n",
       "...         ...    ...  \n",
       "11419 -1.078758      5  \n",
       "11420 -1.113824      5  \n",
       "11421 -1.029542      5  \n",
       "11422 -0.943020      5  \n",
       "11423 -1.001116      5  \n",
       "\n",
       "[11424 rows x 18 columns]"
      ]
     },
     "execution_count": 2,
     "metadata": {},
     "output_type": "execute_result"
    }
   ],
   "source": [
    "df = pd.read_csv(r\"C:\\Users\\hpalm\\Desktop\\Programacion\\Datos_6000_MYO\\Caracteristicas_@\\p01-caracteristicas.csv\")\n",
    "df"
   ]
  },
  {
   "attachments": {},
   "cell_type": "markdown",
   "metadata": {},
   "source": [
    "# **Train and Test set**"
   ]
  },
  {
   "cell_type": "code",
   "execution_count": 3,
   "metadata": {},
   "outputs": [],
   "source": [
    "X = df.iloc[:,[2,4,5,12,15]]   # features matrix \n",
    "y = df.iloc[:,[17]]      # target variable"
   ]
  },
  {
   "cell_type": "code",
   "execution_count": 4,
   "metadata": {},
   "outputs": [
    {
     "data": {
      "text/html": [
       "<div>\n",
       "<style scoped>\n",
       "    .dataframe tbody tr th:only-of-type {\n",
       "        vertical-align: middle;\n",
       "    }\n",
       "\n",
       "    .dataframe tbody tr th {\n",
       "        vertical-align: top;\n",
       "    }\n",
       "\n",
       "    .dataframe thead th {\n",
       "        text-align: right;\n",
       "    }\n",
       "</style>\n",
       "<table border=\"1\" class=\"dataframe\">\n",
       "  <thead>\n",
       "    <tr style=\"text-align: right;\">\n",
       "      <th></th>\n",
       "      <th>MAV</th>\n",
       "      <th>ZC</th>\n",
       "      <th>SSC</th>\n",
       "      <th>MYOP</th>\n",
       "      <th>WAMP</th>\n",
       "    </tr>\n",
       "  </thead>\n",
       "  <tbody>\n",
       "    <tr>\n",
       "      <th>0</th>\n",
       "      <td>0.127188</td>\n",
       "      <td>28</td>\n",
       "      <td>5</td>\n",
       "      <td>0.0</td>\n",
       "      <td>142</td>\n",
       "    </tr>\n",
       "    <tr>\n",
       "      <th>1</th>\n",
       "      <td>0.213594</td>\n",
       "      <td>30</td>\n",
       "      <td>9</td>\n",
       "      <td>0.0</td>\n",
       "      <td>121</td>\n",
       "    </tr>\n",
       "    <tr>\n",
       "      <th>2</th>\n",
       "      <td>0.215312</td>\n",
       "      <td>27</td>\n",
       "      <td>5</td>\n",
       "      <td>0.0</td>\n",
       "      <td>105</td>\n",
       "    </tr>\n",
       "    <tr>\n",
       "      <th>3</th>\n",
       "      <td>0.089531</td>\n",
       "      <td>24</td>\n",
       "      <td>6</td>\n",
       "      <td>0.0</td>\n",
       "      <td>102</td>\n",
       "    </tr>\n",
       "    <tr>\n",
       "      <th>4</th>\n",
       "      <td>0.063281</td>\n",
       "      <td>28</td>\n",
       "      <td>6</td>\n",
       "      <td>0.0</td>\n",
       "      <td>61</td>\n",
       "    </tr>\n",
       "    <tr>\n",
       "      <th>...</th>\n",
       "      <td>...</td>\n",
       "      <td>...</td>\n",
       "      <td>...</td>\n",
       "      <td>...</td>\n",
       "      <td>...</td>\n",
       "    </tr>\n",
       "    <tr>\n",
       "      <th>11419</th>\n",
       "      <td>0.012031</td>\n",
       "      <td>2</td>\n",
       "      <td>2</td>\n",
       "      <td>0.0</td>\n",
       "      <td>111</td>\n",
       "    </tr>\n",
       "    <tr>\n",
       "      <th>11420</th>\n",
       "      <td>0.010781</td>\n",
       "      <td>2</td>\n",
       "      <td>16</td>\n",
       "      <td>0.0</td>\n",
       "      <td>329</td>\n",
       "    </tr>\n",
       "    <tr>\n",
       "      <th>11421</th>\n",
       "      <td>0.010313</td>\n",
       "      <td>9</td>\n",
       "      <td>4</td>\n",
       "      <td>0.0</td>\n",
       "      <td>178</td>\n",
       "    </tr>\n",
       "    <tr>\n",
       "      <th>11422</th>\n",
       "      <td>0.011094</td>\n",
       "      <td>9</td>\n",
       "      <td>14</td>\n",
       "      <td>0.0</td>\n",
       "      <td>341</td>\n",
       "    </tr>\n",
       "    <tr>\n",
       "      <th>11423</th>\n",
       "      <td>0.009844</td>\n",
       "      <td>8</td>\n",
       "      <td>12</td>\n",
       "      <td>0.0</td>\n",
       "      <td>170</td>\n",
       "    </tr>\n",
       "  </tbody>\n",
       "</table>\n",
       "<p>11424 rows × 5 columns</p>\n",
       "</div>"
      ],
      "text/plain": [
       "            MAV  ZC  SSC  MYOP  WAMP\n",
       "0      0.127188  28    5   0.0   142\n",
       "1      0.213594  30    9   0.0   121\n",
       "2      0.215312  27    5   0.0   105\n",
       "3      0.089531  24    6   0.0   102\n",
       "4      0.063281  28    6   0.0    61\n",
       "...         ...  ..  ...   ...   ...\n",
       "11419  0.012031   2    2   0.0   111\n",
       "11420  0.010781   2   16   0.0   329\n",
       "11421  0.010313   9    4   0.0   178\n",
       "11422  0.011094   9   14   0.0   341\n",
       "11423  0.009844   8   12   0.0   170\n",
       "\n",
       "[11424 rows x 5 columns]"
      ]
     },
     "execution_count": 4,
     "metadata": {},
     "output_type": "execute_result"
    }
   ],
   "source": [
    "X"
   ]
  },
  {
   "cell_type": "code",
   "execution_count": 5,
   "metadata": {},
   "outputs": [
    {
     "name": "stdout",
     "output_type": "stream",
     "text": [
      "Testing data shape :  (2285, 5) (2285, 1)\n",
      "Training data shape :  (9139, 5) (9139, 1)\n"
     ]
    }
   ],
   "source": [
    "# Split data into train, test and validatio sets \n",
    "\n",
    "X_train, X_test, y_train, y_test= train_test_split(X, y,test_size=0.2,random_state=1)\n",
    "#X_train, X_val, y_train, y_val= train_test_split(X_train, y_train,test_size=0.2,random_state=0, stratify=y_train)\n",
    "\n",
    "print('Testing data shape : ', X_test.shape, y_test.shape)\n",
    "print('Training data shape : ', X_train.shape, y_train.shape)\n",
    "#print('validation data shape : ', X_val.shape, y_val.shape)"
   ]
  },
  {
   "cell_type": "code",
   "execution_count": 6,
   "metadata": {},
   "outputs": [],
   "source": [
    "# Feature Scaling because yes we don't want one independent variable dominating the other and it makes computations easy\n",
    "from sklearn.preprocessing import StandardScaler\n",
    "sc = StandardScaler()\n",
    "X_train = sc.fit_transform(X_train)\n",
    "X_test = sc.transform(X_test)\n",
    "#X_val = sc.transform(X_val)"
   ]
  },
  {
   "cell_type": "code",
   "execution_count": 7,
   "metadata": {},
   "outputs": [
    {
     "data": {
      "text/plain": [
       "array([[ 0.92831268,  0.54425758, -0.21634419,  1.45775534,  0.02647217],\n",
       "       [-0.77865373, -0.74963804,  0.38407171,  2.09284308,  1.36578794],\n",
       "       [-0.91136693, -2.27878739,  1.88511148, -0.51101665,  2.07418637],\n",
       "       ...,\n",
       "       [ 1.91450909,  0.07375008, -1.41717601, -0.51101665, -0.74833861],\n",
       "       [-0.21119037, -0.27913054, -0.8167601 , -0.51101665, -1.16895018],\n",
       "       [-0.72373792, -0.27913054,  0.08386376, -0.51101665, -0.3498645 ]])"
      ]
     },
     "execution_count": 7,
     "metadata": {},
     "output_type": "execute_result"
    }
   ],
   "source": [
    "X_train"
   ]
  },
  {
   "attachments": {},
   "cell_type": "markdown",
   "metadata": {},
   "source": [
    "# **Build SVM and train**"
   ]
  },
  {
   "cell_type": "code",
   "execution_count": 8,
   "metadata": {},
   "outputs": [],
   "source": [
    "import numpy as np\n",
    "from sklearn.model_selection import train_test_split\n",
    "from sklearn.svm import SVC\n",
    "from sklearn import preprocessing\n",
    "from sklearn import utils\n",
    "from sklearn.model_selection import GridSearchCV"
   ]
  },
  {
   "cell_type": "code",
   "execution_count": 9,
   "metadata": {},
   "outputs": [
    {
     "name": "stderr",
     "output_type": "stream",
     "text": [
      "c:\\Users\\hpalm\\anaconda3\\envs\\tfradeon\\lib\\site-packages\\sklearn\\utils\\validation.py:63: DataConversionWarning: A column-vector y was passed when a 1d array was expected. Please change the shape of y to (n_samples, ), for example using ravel().\n",
      "  return f(*args, **kwargs)\n"
     ]
    },
    {
     "data": {
      "text/plain": [
       "SVC(C=1, kernel='linear')"
      ]
     },
     "execution_count": 9,
     "metadata": {},
     "output_type": "execute_result"
    }
   ],
   "source": [
    "svm_model = SVC(kernel='linear', C=1)\n",
    "\n",
    "# Train the model on the training data\n",
    "svm_model.fit(X_train, y_train)"
   ]
  },
  {
   "cell_type": "code",
   "execution_count": 10,
   "metadata": {},
   "outputs": [
    {
     "name": "stdout",
     "output_type": "stream",
     "text": [
      "Accuracy: 0.4196936542669584\n"
     ]
    }
   ],
   "source": [
    "# Predict on the testing data\n",
    "y_pred = svm_model.predict(X_test)\n",
    "\n",
    "# Calculate accuracy\n",
    "accuracy = accuracy_score(y_test, y_pred)\n",
    "\n",
    "print(\"Accuracy:\", accuracy)"
   ]
  },
  {
   "attachments": {},
   "cell_type": "markdown",
   "metadata": {},
   "source": [
    "# **Confusion Matrix**"
   ]
  },
  {
   "cell_type": "code",
   "execution_count": 11,
   "metadata": {},
   "outputs": [],
   "source": [
    "from sklearn.metrics import confusion_matrix\n",
    "import pandas as pd\n",
    "\n",
    "# Assuming clf is your trained SVM model and X_test, y_test are your test data and labels, respectively\n",
    "y_pred = svm_model.predict(X_test)\n",
    "cm = confusion_matrix(y_test, y_pred)\n",
    "df_cm = pd.DataFrame(cm, index = [i for i in range(6)],\n",
    "                  columns = [i for i in range(6)])"
   ]
  },
  {
   "cell_type": "code",
   "execution_count": 12,
   "metadata": {},
   "outputs": [
    {
     "data": {
      "image/png": "[encoded data removed]",
      "text/plain": [
       "<Figure size 432x288 with 2 Axes>"
      ]
     },
     "metadata": {
      "needs_background": "light"
     },
     "output_type": "display_data"
    }
   ],
   "source": [
    "labels=[\"AP\", \"PI\", \"PO\", \"MO\", \"AT\", \"RE\"] #Con Reposo\n",
    "#labels=[\"AP\", \"PI\", \"PO\", \"MO\", \"AT\"] #Sin Reposo\n",
    "df_cm = pd.DataFrame(cm, labels, labels)\n",
    "ax = sns.heatmap(df_cm, annot=True, annot_kws={\"size\": 16}, square=True, cbar=True, fmt='g')\n",
    "ax.set_ylim(0, 6) \n",
    "plt.xlabel(\"Predicted\") \n",
    "plt.ylabel(\"Actual\") \n",
    "ax.invert_yaxis() \n",
    "plt.show()"
   ]
  },
  {
   "attachments": {},
   "cell_type": "markdown",
   "metadata": {},
   "source": [
    "# **Metrics**"
   ]
  },
  {
   "cell_type": "code",
   "execution_count": null,
   "metadata": {},
   "outputs": [],
   "source": [
    "from sklearn.metrics import accuracy_score, precision_score, recall_score, f1_score\n",
    "\n",
    "\n",
    "y_pred = svm_model.predict(X_test)\n",
    "accuracy = accuracy_score(y_test, y_pred)\n",
    "precision = precision_score(y_test, y_pred, average='weighted')\n",
    "recall = recall_score(y_test, y_pred, average='weighted')\n",
    "f1 = f1_score(y_test, y_pred, average='weighted')\n",
    "\n",
    "print('Accuracy: ', \"%.2f\" % (accuracy*100))\n",
    "print('F1 : ', \"%.2f\" % (precision*100))\n",
    "print('Recall_Score: ', \"%.2f\" % (recall*100))\n",
    "print('Precision : ', \"%.2f\" % (f1*100))"
   ]
  },
  {
   "cell_type": "code",
   "execution_count": null,
   "metadata": {},
   "outputs": [],
   "source": [
    "from sklearn.metrics import classification_report\n",
    "print(classification_report(y_test, y_pred))"
   ]
  },
  {
   "cell_type": "markdown",
   "metadata": {},
   "source": [
    "# **All-to-one**"
   ]
  },
  {
   "cell_type": "code",
   "execution_count": 1,
   "metadata": {},
   "outputs": [],
   "source": [
    "import pandas as pd \n",
    "import glob\n",
    "import matplotlib.pyplot as plt\n",
    "from sklearn import svm\n",
    "from sklearn.model_selection import train_test_split\n",
    "from sklearn.metrics import accuracy_score\n",
    "import seaborn as sns\n",
    "\n",
    "import numpy as np\n",
    "from sklearn.model_selection import train_test_split\n",
    "from sklearn.svm import SVC\n",
    "from sklearn import preprocessing\n",
    "from sklearn import utils\n",
    "from sklearn.model_selection import GridSearchCV"
   ]
  },
  {
   "cell_type": "code",
   "execution_count": 2,
   "metadata": {},
   "outputs": [],
   "source": [
    "csv_files = glob.glob(r'C:\\Users\\hpalm\\Desktop\\Programacion\\Datos_6000_MYO\\Caracteristicas\\*.csv')\n",
    "\n",
    "dataframes =[]"
   ]
  },
  {
   "cell_type": "code",
   "execution_count": 3,
   "metadata": {},
   "outputs": [],
   "source": [
    "for csv_file in csv_files:\n",
    "    df = pd.read_csv(csv_file)\n",
    "    dataframes.append(df)"
   ]
  },
  {
   "cell_type": "code",
   "execution_count": 4,
   "metadata": {},
   "outputs": [],
   "source": [
    "all_to_one_df = pd.concat(dataframes, ignore_index=True)\n",
    "\n",
    "\n",
    "all_to_one_df.sort_values(by=all_to_one_df.columns[6],inplace=True)\n",
    "\n",
    "\n",
    "all_to_one_df.reset_index(drop=True,inplace=True)"
   ]
  },
  {
   "cell_type": "code",
   "execution_count": 5,
   "metadata": {},
   "outputs": [
    {
     "data": {
      "text/html": [
       "<div>\n",
       "<style scoped>\n",
       "    .dataframe tbody tr th:only-of-type {\n",
       "        vertical-align: middle;\n",
       "    }\n",
       "\n",
       "    .dataframe tbody tr th {\n",
       "        vertical-align: top;\n",
       "    }\n",
       "\n",
       "    .dataframe thead th {\n",
       "        text-align: right;\n",
       "    }\n",
       "</style>\n",
       "<table border=\"1\" class=\"dataframe\">\n",
       "  <thead>\n",
       "    <tr style=\"text-align: right;\">\n",
       "      <th></th>\n",
       "      <th>MAV</th>\n",
       "      <th>WL</th>\n",
       "      <th>ZC</th>\n",
       "      <th>RMS</th>\n",
       "      <th>SSI</th>\n",
       "      <th>VAR</th>\n",
       "      <th>Label</th>\n",
       "    </tr>\n",
       "  </thead>\n",
       "  <tbody>\n",
       "    <tr>\n",
       "      <th>0</th>\n",
       "      <td>0.127188</td>\n",
       "      <td>10.500000</td>\n",
       "      <td>28</td>\n",
       "      <td>0.174986</td>\n",
       "      <td>1.531006</td>\n",
       "      <td>0.030615</td>\n",
       "      <td>0</td>\n",
       "    </tr>\n",
       "    <tr>\n",
       "      <th>1</th>\n",
       "      <td>0.057656</td>\n",
       "      <td>4.195312</td>\n",
       "      <td>18</td>\n",
       "      <td>0.086412</td>\n",
       "      <td>0.373352</td>\n",
       "      <td>0.007376</td>\n",
       "      <td>0</td>\n",
       "    </tr>\n",
       "    <tr>\n",
       "      <th>2</th>\n",
       "      <td>0.082031</td>\n",
       "      <td>6.835938</td>\n",
       "      <td>30</td>\n",
       "      <td>0.140707</td>\n",
       "      <td>0.989929</td>\n",
       "      <td>0.019758</td>\n",
       "      <td>0</td>\n",
       "    </tr>\n",
       "    <tr>\n",
       "      <th>3</th>\n",
       "      <td>0.093281</td>\n",
       "      <td>7.632812</td>\n",
       "      <td>25</td>\n",
       "      <td>0.138821</td>\n",
       "      <td>0.963562</td>\n",
       "      <td>0.019230</td>\n",
       "      <td>0</td>\n",
       "    </tr>\n",
       "    <tr>\n",
       "      <th>4</th>\n",
       "      <td>0.053125</td>\n",
       "      <td>4.242188</td>\n",
       "      <td>28</td>\n",
       "      <td>0.076355</td>\n",
       "      <td>0.291504</td>\n",
       "      <td>0.005724</td>\n",
       "      <td>0</td>\n",
       "    </tr>\n",
       "    <tr>\n",
       "      <th>...</th>\n",
       "      <td>...</td>\n",
       "      <td>...</td>\n",
       "      <td>...</td>\n",
       "      <td>...</td>\n",
       "      <td>...</td>\n",
       "      <td>...</td>\n",
       "      <td>...</td>\n",
       "    </tr>\n",
       "    <tr>\n",
       "      <th>114235</th>\n",
       "      <td>0.017344</td>\n",
       "      <td>1.296875</td>\n",
       "      <td>19</td>\n",
       "      <td>0.022290</td>\n",
       "      <td>0.024841</td>\n",
       "      <td>0.000418</td>\n",
       "      <td>5</td>\n",
       "    </tr>\n",
       "    <tr>\n",
       "      <th>114236</th>\n",
       "      <td>0.010781</td>\n",
       "      <td>0.531250</td>\n",
       "      <td>2</td>\n",
       "      <td>0.013755</td>\n",
       "      <td>0.009460</td>\n",
       "      <td>0.000080</td>\n",
       "      <td>5</td>\n",
       "    </tr>\n",
       "    <tr>\n",
       "      <th>114237</th>\n",
       "      <td>0.011875</td>\n",
       "      <td>0.695312</td>\n",
       "      <td>10</td>\n",
       "      <td>0.015149</td>\n",
       "      <td>0.011475</td>\n",
       "      <td>0.000173</td>\n",
       "      <td>5</td>\n",
       "    </tr>\n",
       "    <tr>\n",
       "      <th>114238</th>\n",
       "      <td>0.031563</td>\n",
       "      <td>2.640625</td>\n",
       "      <td>24</td>\n",
       "      <td>0.039467</td>\n",
       "      <td>0.077881</td>\n",
       "      <td>0.001475</td>\n",
       "      <td>5</td>\n",
       "    </tr>\n",
       "    <tr>\n",
       "      <th>114239</th>\n",
       "      <td>0.016250</td>\n",
       "      <td>1.054688</td>\n",
       "      <td>8</td>\n",
       "      <td>0.024105</td>\n",
       "      <td>0.029053</td>\n",
       "      <td>0.000510</td>\n",
       "      <td>5</td>\n",
       "    </tr>\n",
       "  </tbody>\n",
       "</table>\n",
       "<p>114240 rows × 7 columns</p>\n",
       "</div>"
      ],
      "text/plain": [
       "             MAV         WL  ZC       RMS       SSI       VAR  Label\n",
       "0       0.127188  10.500000  28  0.174986  1.531006  0.030615      0\n",
       "1       0.057656   4.195312  18  0.086412  0.373352  0.007376      0\n",
       "2       0.082031   6.835938  30  0.140707  0.989929  0.019758      0\n",
       "3       0.093281   7.632812  25  0.138821  0.963562  0.019230      0\n",
       "4       0.053125   4.242188  28  0.076355  0.291504  0.005724      0\n",
       "...          ...        ...  ..       ...       ...       ...    ...\n",
       "114235  0.017344   1.296875  19  0.022290  0.024841  0.000418      5\n",
       "114236  0.010781   0.531250   2  0.013755  0.009460  0.000080      5\n",
       "114237  0.011875   0.695312  10  0.015149  0.011475  0.000173      5\n",
       "114238  0.031563   2.640625  24  0.039467  0.077881  0.001475      5\n",
       "114239  0.016250   1.054688   8  0.024105  0.029053  0.000510      5\n",
       "\n",
       "[114240 rows x 7 columns]"
      ]
     },
     "execution_count": 5,
     "metadata": {},
     "output_type": "execute_result"
    }
   ],
   "source": [
    "all_to_one_df"
   ]
  },
  {
   "cell_type": "markdown",
   "metadata": {},
   "source": [
    "# **SVM**"
   ]
  },
  {
   "cell_type": "code",
   "execution_count": 6,
   "metadata": {},
   "outputs": [],
   "source": [
    "X = all_to_one_df.iloc[:,0:5]    # features matrix \n",
    "y = all_to_one_df.iloc[:,[6]]       # target variable"
   ]
  },
  {
   "cell_type": "code",
   "execution_count": 7,
   "metadata": {},
   "outputs": [
    {
     "data": {
      "text/html": [
       "<div>\n",
       "<style scoped>\n",
       "    .dataframe tbody tr th:only-of-type {\n",
       "        vertical-align: middle;\n",
       "    }\n",
       "\n",
       "    .dataframe tbody tr th {\n",
       "        vertical-align: top;\n",
       "    }\n",
       "\n",
       "    .dataframe thead th {\n",
       "        text-align: right;\n",
       "    }\n",
       "</style>\n",
       "<table border=\"1\" class=\"dataframe\">\n",
       "  <thead>\n",
       "    <tr style=\"text-align: right;\">\n",
       "      <th></th>\n",
       "      <th>MAV</th>\n",
       "      <th>WL</th>\n",
       "      <th>ZC</th>\n",
       "      <th>RMS</th>\n",
       "      <th>SSI</th>\n",
       "    </tr>\n",
       "  </thead>\n",
       "  <tbody>\n",
       "    <tr>\n",
       "      <th>0</th>\n",
       "      <td>0.127188</td>\n",
       "      <td>10.500000</td>\n",
       "      <td>28</td>\n",
       "      <td>0.174986</td>\n",
       "      <td>1.531006</td>\n",
       "    </tr>\n",
       "    <tr>\n",
       "      <th>1</th>\n",
       "      <td>0.057656</td>\n",
       "      <td>4.195312</td>\n",
       "      <td>18</td>\n",
       "      <td>0.086412</td>\n",
       "      <td>0.373352</td>\n",
       "    </tr>\n",
       "    <tr>\n",
       "      <th>2</th>\n",
       "      <td>0.082031</td>\n",
       "      <td>6.835938</td>\n",
       "      <td>30</td>\n",
       "      <td>0.140707</td>\n",
       "      <td>0.989929</td>\n",
       "    </tr>\n",
       "    <tr>\n",
       "      <th>3</th>\n",
       "      <td>0.093281</td>\n",
       "      <td>7.632812</td>\n",
       "      <td>25</td>\n",
       "      <td>0.138821</td>\n",
       "      <td>0.963562</td>\n",
       "    </tr>\n",
       "    <tr>\n",
       "      <th>4</th>\n",
       "      <td>0.053125</td>\n",
       "      <td>4.242188</td>\n",
       "      <td>28</td>\n",
       "      <td>0.076355</td>\n",
       "      <td>0.291504</td>\n",
       "    </tr>\n",
       "    <tr>\n",
       "      <th>...</th>\n",
       "      <td>...</td>\n",
       "      <td>...</td>\n",
       "      <td>...</td>\n",
       "      <td>...</td>\n",
       "      <td>...</td>\n",
       "    </tr>\n",
       "    <tr>\n",
       "      <th>114235</th>\n",
       "      <td>0.017344</td>\n",
       "      <td>1.296875</td>\n",
       "      <td>19</td>\n",
       "      <td>0.022290</td>\n",
       "      <td>0.024841</td>\n",
       "    </tr>\n",
       "    <tr>\n",
       "      <th>114236</th>\n",
       "      <td>0.010781</td>\n",
       "      <td>0.531250</td>\n",
       "      <td>2</td>\n",
       "      <td>0.013755</td>\n",
       "      <td>0.009460</td>\n",
       "    </tr>\n",
       "    <tr>\n",
       "      <th>114237</th>\n",
       "      <td>0.011875</td>\n",
       "      <td>0.695312</td>\n",
       "      <td>10</td>\n",
       "      <td>0.015149</td>\n",
       "      <td>0.011475</td>\n",
       "    </tr>\n",
       "    <tr>\n",
       "      <th>114238</th>\n",
       "      <td>0.031563</td>\n",
       "      <td>2.640625</td>\n",
       "      <td>24</td>\n",
       "      <td>0.039467</td>\n",
       "      <td>0.077881</td>\n",
       "    </tr>\n",
       "    <tr>\n",
       "      <th>114239</th>\n",
       "      <td>0.016250</td>\n",
       "      <td>1.054688</td>\n",
       "      <td>8</td>\n",
       "      <td>0.024105</td>\n",
       "      <td>0.029053</td>\n",
       "    </tr>\n",
       "  </tbody>\n",
       "</table>\n",
       "<p>114240 rows × 5 columns</p>\n",
       "</div>"
      ],
      "text/plain": [
       "             MAV         WL  ZC       RMS       SSI\n",
       "0       0.127188  10.500000  28  0.174986  1.531006\n",
       "1       0.057656   4.195312  18  0.086412  0.373352\n",
       "2       0.082031   6.835938  30  0.140707  0.989929\n",
       "3       0.093281   7.632812  25  0.138821  0.963562\n",
       "4       0.053125   4.242188  28  0.076355  0.291504\n",
       "...          ...        ...  ..       ...       ...\n",
       "114235  0.017344   1.296875  19  0.022290  0.024841\n",
       "114236  0.010781   0.531250   2  0.013755  0.009460\n",
       "114237  0.011875   0.695312  10  0.015149  0.011475\n",
       "114238  0.031563   2.640625  24  0.039467  0.077881\n",
       "114239  0.016250   1.054688   8  0.024105  0.029053\n",
       "\n",
       "[114240 rows x 5 columns]"
      ]
     },
     "execution_count": 7,
     "metadata": {},
     "output_type": "execute_result"
    }
   ],
   "source": [
    "X"
   ]
  },
  {
   "cell_type": "code",
   "execution_count": 8,
   "metadata": {},
   "outputs": [
    {
     "name": "stdout",
     "output_type": "stream",
     "text": [
      "Testing data shape :  (22848, 5) (22848, 1)\n",
      "Training data shape :  (91392, 5) (91392, 1)\n"
     ]
    }
   ],
   "source": [
    "# Split data into train, test and validatio sets \n",
    "\n",
    "X_train, X_test, y_train, y_test= train_test_split(X, y,test_size=0.2,random_state=0, stratify=y)\n",
    "#X_train, X_val, y_train, y_val= train_test_split(X_train, y_train,test_size=0.2,random_state=0, stratify=y_train)\n",
    "\n",
    "print('Testing data shape : ', X_test.shape, y_test.shape)\n",
    "print('Training data shape : ', X_train.shape, y_train.shape)\n",
    "#print('validation data shape : ', X_val.shape, y_val.shape)"
   ]
  },
  {
   "cell_type": "code",
   "execution_count": 9,
   "metadata": {},
   "outputs": [],
   "source": [
    "# Feature Scaling because yes we don't want one independent variable dominating the other and it makes computations easy\n",
    "from sklearn.preprocessing import StandardScaler\n",
    "sc = StandardScaler()\n",
    "X_train = sc.fit_transform(X_train)\n",
    "X_test = sc.transform(X_test)\n",
    "#X_val = sc.transform(X_val)"
   ]
  },
  {
   "cell_type": "code",
   "execution_count": 10,
   "metadata": {},
   "outputs": [
    {
     "name": "stderr",
     "output_type": "stream",
     "text": [
      "c:\\Users\\hpalm\\anaconda3\\envs\\tfradeon\\lib\\site-packages\\sklearn\\utils\\validation.py:63: DataConversionWarning: A column-vector y was passed when a 1d array was expected. Please change the shape of y to (n_samples, ), for example using ravel().\n",
      "  return f(*args, **kwargs)\n"
     ]
    },
    {
     "data": {
      "text/plain": [
       "SVC(C=1, kernel='linear')"
      ]
     },
     "execution_count": 10,
     "metadata": {},
     "output_type": "execute_result"
    }
   ],
   "source": [
    "svm_model = SVC(kernel='linear', C=1)\n",
    "\n",
    "# Train the model on the training data\n",
    "svm_model.fit(X_train, y_train)"
   ]
  },
  {
   "cell_type": "code",
   "execution_count": 11,
   "metadata": {},
   "outputs": [
    {
     "name": "stdout",
     "output_type": "stream",
     "text": [
      "Accuracy: 0.31998424369747897\n"
     ]
    }
   ],
   "source": [
    "# Predict on the testing data\n",
    "y_pred = svm_model.predict(X_test)\n",
    "\n",
    "# Calculate accuracy\n",
    "accuracy = accuracy_score(y_test, y_pred)\n",
    "\n",
    "print(\"Accuracy:\", accuracy)"
   ]
  },
  {
   "cell_type": "markdown",
   "metadata": {},
   "source": [
    "# **Confusion Matrix**"
   ]
  },
  {
   "cell_type": "code",
   "execution_count": 12,
   "metadata": {},
   "outputs": [],
   "source": [
    "from sklearn.metrics import confusion_matrix\n",
    "import pandas as pd\n",
    "\n",
    "# Assuming clf is your trained SVM model and X_test, y_test are your test data and labels, respectively\n",
    "y_pred = svm_model.predict(X_test)\n",
    "cm = confusion_matrix(y_test, y_pred)\n",
    "df_cm = pd.DataFrame(cm, index = [i for i in range(6)],\n",
    "                  columns = [i for i in range(6)])"
   ]
  },
  {
   "cell_type": "code",
   "execution_count": 13,
   "metadata": {},
   "outputs": [
    {
     "data": {
      "image/png": "[encoded data removed]",
      "text/plain": [
       "<Figure size 432x288 with 2 Axes>"
      ]
     },
     "metadata": {
      "needs_background": "light"
     },
     "output_type": "display_data"
    }
   ],
   "source": [
    "labels=[\"AP\", \"PI\", \"PO\", \"MO\", \"AT\", \"RE\"] #Con Reposo\n",
    "#labels=[\"AP\", \"PI\", \"PO\", \"MO\", \"AT\"] #Sin Reposo\n",
    "df_cm = pd.DataFrame(cm, labels, labels)\n",
    "ax = sns.heatmap(df_cm, annot=True, annot_kws={\"size\": 16}, square=True, cbar=True, fmt='g')\n",
    "ax.set_ylim(0, 6) \n",
    "plt.xlabel(\"Predicted\") \n",
    "plt.ylabel(\"Actual\") \n",
    "ax.invert_yaxis() \n",
    "plt.show()"
   ]
  },
  {
   "cell_type": "markdown",
   "metadata": {},
   "source": [
    "# **Metrics**"
   ]
  },
  {
   "cell_type": "code",
   "execution_count": 14,
   "metadata": {},
   "outputs": [
    {
     "name": "stdout",
     "output_type": "stream",
     "text": [
      "Accuracy:  32.00\n",
      "F1 :  27.28\n",
      "Recall_Score:  32.00\n",
      "Precision :  25.37\n"
     ]
    }
   ],
   "source": [
    "from sklearn.metrics import accuracy_score, precision_score, recall_score, f1_score\n",
    "\n",
    "\n",
    "y_pred = svm_model.predict(X_test)\n",
    "accuracy = accuracy_score(y_test, y_pred)\n",
    "precision = precision_score(y_test, y_pred, average='weighted')\n",
    "recall = recall_score(y_test, y_pred, average='weighted')\n",
    "f1 = f1_score(y_test, y_pred, average='weighted')\n",
    "\n",
    "print('Accuracy: ', \"%.2f\" % (accuracy*100))\n",
    "print('F1 : ', \"%.2f\" % (precision*100))\n",
    "print('Recall_Score: ', \"%.2f\" % (recall*100))\n",
    "print('Precision : ', \"%.2f\" % (f1*100))"
   ]
  },
  {
   "cell_type": "code",
   "execution_count": 15,
   "metadata": {},
   "outputs": [
    {
     "name": "stdout",
     "output_type": "stream",
     "text": [
      "              precision    recall  f1-score   support\n",
      "\n",
      "           0       0.18      0.03      0.05      3808\n",
      "           1       0.22      0.02      0.03      3808\n",
      "           2       0.23      0.13      0.16      3808\n",
      "           3       0.21      0.37      0.27      3808\n",
      "           4       0.28      0.48      0.35      3808\n",
      "           5       0.52      0.90      0.66      3808\n",
      "\n",
      "    accuracy                           0.32     22848\n",
      "   macro avg       0.27      0.32      0.25     22848\n",
      "weighted avg       0.27      0.32      0.25     22848\n",
      "\n"
     ]
    }
   ],
   "source": [
    "from sklearn.metrics import classification_report\n",
    "print(classification_report(y_test, y_pred))"
   ]
  }
 ],
 "metadata": {
  "kernelspec": {
   "display_name": "tfradeon",
   "language": "python",
   "name": "python3"
  },
  "language_info": {
   "codemirror_mode": {
    "name": "ipython",
    "version": 3
   },
   "file_extension": ".py",
   "mimetype": "text/x-python",
   "name": "python",
   "nbconvert_exporter": "python",
   "pygments_lexer": "ipython3",
   "version": "3.6.13"
  },
  "orig_nbformat": 4
 },
 "nbformat": 4,
 "nbformat_minor": 2
}
