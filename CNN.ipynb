{
 "cells": [
  {
   "attachments": {},
   "cell_type": "markdown",
   "metadata": {},
   "source": [
    "# **Libraries**"
   ]
  },
  {
   "cell_type": "code",
   "execution_count": 1,
   "metadata": {},
   "outputs": [],
   "source": [
    "import tensorflow as tf \n",
    "import pandas as pd\n",
    "import numpy as np\n",
    "from tensorflow.keras.models import Sequential\n",
    "from tensorflow.keras.layers import Conv2D, Dropout, Flatten, Dense, MaxPool2D, GlobalAveragePooling1D, Flatten \n",
    "from tensorflow.keras.callbacks import EarlyStopping\n",
    "from sklearn.model_selection import train_test_split\n",
    "from tensorflow.keras import regularizers\n",
    "import matplotlib.pyplot as plt"
   ]
  },
  {
   "attachments": {},
   "cell_type": "markdown",
   "metadata": {},
   "source": [
    "# **Import EMG Raw signal (CSV file)**"
   ]
  },
  {
   "cell_type": "code",
   "execution_count": 57,
   "metadata": {},
   "outputs": [
    {
     "data": {
      "text/html": [
       "<div>\n",
       "<style scoped>\n",
       "    .dataframe tbody tr th:only-of-type {\n",
       "        vertical-align: middle;\n",
       "    }\n",
       "\n",
       "    .dataframe tbody tr th {\n",
       "        vertical-align: top;\n",
       "    }\n",
       "\n",
       "    .dataframe thead th {\n",
       "        text-align: right;\n",
       "    }\n",
       "</style>\n",
       "<table border=\"1\" class=\"dataframe\">\n",
       "  <thead>\n",
       "    <tr style=\"text-align: right;\">\n",
       "      <th></th>\n",
       "      <th>Canal_1</th>\n",
       "      <th>Canal_2</th>\n",
       "      <th>Canal_3</th>\n",
       "      <th>Canal_4</th>\n",
       "      <th>Canal_5</th>\n",
       "      <th>Canal_6</th>\n",
       "      <th>Canal_7</th>\n",
       "      <th>Canal_8</th>\n",
       "      <th>Clase</th>\n",
       "    </tr>\n",
       "  </thead>\n",
       "  <tbody>\n",
       "    <tr>\n",
       "      <th>0</th>\n",
       "      <td>0.031250</td>\n",
       "      <td>-0.335938</td>\n",
       "      <td>-0.195312</td>\n",
       "      <td>-0.031250</td>\n",
       "      <td>0.078125</td>\n",
       "      <td>0.031250</td>\n",
       "      <td>0.078125</td>\n",
       "      <td>0.007812</td>\n",
       "      <td>0</td>\n",
       "    </tr>\n",
       "    <tr>\n",
       "      <th>1</th>\n",
       "      <td>-0.117188</td>\n",
       "      <td>0.304688</td>\n",
       "      <td>0.453125</td>\n",
       "      <td>0.140625</td>\n",
       "      <td>-0.070312</td>\n",
       "      <td>-0.007812</td>\n",
       "      <td>0.015625</td>\n",
       "      <td>-0.054688</td>\n",
       "      <td>0</td>\n",
       "    </tr>\n",
       "    <tr>\n",
       "      <th>2</th>\n",
       "      <td>-0.101562</td>\n",
       "      <td>-0.320312</td>\n",
       "      <td>-0.117188</td>\n",
       "      <td>0.109375</td>\n",
       "      <td>0.125000</td>\n",
       "      <td>0.023438</td>\n",
       "      <td>-0.015625</td>\n",
       "      <td>0.007812</td>\n",
       "      <td>0</td>\n",
       "    </tr>\n",
       "    <tr>\n",
       "      <th>3</th>\n",
       "      <td>-0.359375</td>\n",
       "      <td>-0.132812</td>\n",
       "      <td>-0.570312</td>\n",
       "      <td>-0.273438</td>\n",
       "      <td>-0.093750</td>\n",
       "      <td>-0.078125</td>\n",
       "      <td>-0.085938</td>\n",
       "      <td>-0.062500</td>\n",
       "      <td>0</td>\n",
       "    </tr>\n",
       "    <tr>\n",
       "      <th>4</th>\n",
       "      <td>0.281250</td>\n",
       "      <td>0.187500</td>\n",
       "      <td>0.570312</td>\n",
       "      <td>0.289062</td>\n",
       "      <td>0.101562</td>\n",
       "      <td>0.031250</td>\n",
       "      <td>0.031250</td>\n",
       "      <td>-0.093750</td>\n",
       "      <td>0</td>\n",
       "    </tr>\n",
       "    <tr>\n",
       "      <th>...</th>\n",
       "      <td>...</td>\n",
       "      <td>...</td>\n",
       "      <td>...</td>\n",
       "      <td>...</td>\n",
       "      <td>...</td>\n",
       "      <td>...</td>\n",
       "      <td>...</td>\n",
       "      <td>...</td>\n",
       "      <td>...</td>\n",
       "    </tr>\n",
       "    <tr>\n",
       "      <th>35995</th>\n",
       "      <td>0.000000</td>\n",
       "      <td>-0.007812</td>\n",
       "      <td>-0.023438</td>\n",
       "      <td>-0.007812</td>\n",
       "      <td>-0.007812</td>\n",
       "      <td>-0.015625</td>\n",
       "      <td>-0.007812</td>\n",
       "      <td>-0.007812</td>\n",
       "      <td>5</td>\n",
       "    </tr>\n",
       "    <tr>\n",
       "      <th>35996</th>\n",
       "      <td>0.000000</td>\n",
       "      <td>-0.015625</td>\n",
       "      <td>-0.007812</td>\n",
       "      <td>0.007812</td>\n",
       "      <td>-0.007812</td>\n",
       "      <td>-0.007812</td>\n",
       "      <td>-0.007812</td>\n",
       "      <td>0.007812</td>\n",
       "      <td>5</td>\n",
       "    </tr>\n",
       "    <tr>\n",
       "      <th>35997</th>\n",
       "      <td>-0.007812</td>\n",
       "      <td>-0.007812</td>\n",
       "      <td>0.000000</td>\n",
       "      <td>0.000000</td>\n",
       "      <td>-0.007812</td>\n",
       "      <td>-0.007812</td>\n",
       "      <td>0.000000</td>\n",
       "      <td>-0.015625</td>\n",
       "      <td>5</td>\n",
       "    </tr>\n",
       "    <tr>\n",
       "      <th>35998</th>\n",
       "      <td>0.000000</td>\n",
       "      <td>-0.007812</td>\n",
       "      <td>-0.007812</td>\n",
       "      <td>0.000000</td>\n",
       "      <td>-0.007812</td>\n",
       "      <td>-0.007812</td>\n",
       "      <td>-0.023438</td>\n",
       "      <td>-0.007812</td>\n",
       "      <td>5</td>\n",
       "    </tr>\n",
       "    <tr>\n",
       "      <th>35999</th>\n",
       "      <td>-0.015625</td>\n",
       "      <td>0.007812</td>\n",
       "      <td>0.007812</td>\n",
       "      <td>-0.007812</td>\n",
       "      <td>-0.023438</td>\n",
       "      <td>-0.015625</td>\n",
       "      <td>-0.031250</td>\n",
       "      <td>0.000000</td>\n",
       "      <td>5</td>\n",
       "    </tr>\n",
       "  </tbody>\n",
       "</table>\n",
       "<p>36000 rows × 9 columns</p>\n",
       "</div>"
      ],
      "text/plain": [
       "        Canal_1   Canal_2   Canal_3   Canal_4   Canal_5   Canal_6   Canal_7  \\\n",
       "0      0.031250 -0.335938 -0.195312 -0.031250  0.078125  0.031250  0.078125   \n",
       "1     -0.117188  0.304688  0.453125  0.140625 -0.070312 -0.007812  0.015625   \n",
       "2     -0.101562 -0.320312 -0.117188  0.109375  0.125000  0.023438 -0.015625   \n",
       "3     -0.359375 -0.132812 -0.570312 -0.273438 -0.093750 -0.078125 -0.085938   \n",
       "4      0.281250  0.187500  0.570312  0.289062  0.101562  0.031250  0.031250   \n",
       "...         ...       ...       ...       ...       ...       ...       ...   \n",
       "35995  0.000000 -0.007812 -0.023438 -0.007812 -0.007812 -0.015625 -0.007812   \n",
       "35996  0.000000 -0.015625 -0.007812  0.007812 -0.007812 -0.007812 -0.007812   \n",
       "35997 -0.007812 -0.007812  0.000000  0.000000 -0.007812 -0.007812  0.000000   \n",
       "35998  0.000000 -0.007812 -0.007812  0.000000 -0.007812 -0.007812 -0.023438   \n",
       "35999 -0.015625  0.007812  0.007812 -0.007812 -0.023438 -0.015625 -0.031250   \n",
       "\n",
       "        Canal_8  Clase  \n",
       "0      0.007812      0  \n",
       "1     -0.054688      0  \n",
       "2      0.007812      0  \n",
       "3     -0.062500      0  \n",
       "4     -0.093750      0  \n",
       "...         ...    ...  \n",
       "35995 -0.007812      5  \n",
       "35996  0.007812      5  \n",
       "35997 -0.015625      5  \n",
       "35998 -0.007812      5  \n",
       "35999  0.000000      5  \n",
       "\n",
       "[36000 rows x 9 columns]"
      ]
     },
     "execution_count": 57,
     "metadata": {},
     "output_type": "execute_result"
    }
   ],
   "source": [
    "df = pd.read_csv(r\"C:\\Users\\hpalm\\Downloads\\p1 (1).csv\")\n",
    "df"
   ]
  },
  {
   "attachments": {},
   "cell_type": "markdown",
   "metadata": {},
   "source": [
    "# **Train and Test set**"
   ]
  },
  {
   "cell_type": "code",
   "execution_count": 11,
   "metadata": {},
   "outputs": [],
   "source": [
    "X = df.iloc[:,:-1]\n",
    "y = df.iloc[:,8:]\n",
    "X = np.array(X[:])"
   ]
  },
  {
   "cell_type": "code",
   "execution_count": 12,
   "metadata": {},
   "outputs": [
    {
     "name": "stdout",
     "output_type": "stream",
     "text": [
      "Testing data shape :  (7200, 8) (7200, 1)\n",
      "Training data shape :  (23040, 8) (23040, 1)\n",
      "validation data shape :  (5760, 8) (5760, 1)\n"
     ]
    }
   ],
   "source": [
    "# Split data into train, test and validatio sets \n",
    "\n",
    "X_train, X_test, y_train, y_test= train_test_split(X, y,test_size=0.2,random_state=0, stratify=y)\n",
    "X_train, X_val, y_train, y_val= train_test_split(X_train, y_train,test_size=0.2,random_state=0, stratify=y_train)\n",
    "\n",
    "print('Testing data shape : ', X_test.shape, y_test.shape)\n",
    "print('Training data shape : ', X_train.shape, y_train.shape)\n",
    "print('validation data shape : ', X_val.shape, y_val.shape)"
   ]
  },
  {
   "cell_type": "code",
   "execution_count": 17,
   "metadata": {},
   "outputs": [
    {
     "data": {
      "text/plain": [
       "(23040, 8, 1, 1)"
      ]
     },
     "execution_count": 17,
     "metadata": {},
     "output_type": "execute_result"
    }
   ],
   "source": [
    "X_train_cnn = np.reshape(X_train,(X_train.shape[0], X_train.shape[1], 1, 1))\n",
    "X_test_cnn = np.reshape(X_test,(X_test.shape[0], X_test.shape[1], 1, 1))\n",
    "X_train_cnn.shape"
   ]
  },
  {
   "attachments": {},
   "cell_type": "markdown",
   "metadata": {},
   "source": [
    "# **Build CNN and train**"
   ]
  },
  {
   "cell_type": "code",
   "execution_count": 27,
   "metadata": {},
   "outputs": [],
   "source": [
    "custom_early_stopping = EarlyStopping (monitor='loss', patience=3)"
   ]
  },
  {
   "cell_type": "code",
   "execution_count": 28,
   "metadata": {},
   "outputs": [
    {
     "name": "stdout",
     "output_type": "stream",
     "text": [
      "Model: \"sequential_2\"\n",
      "_________________________________________________________________\n",
      "Layer (type)                 Output Shape              Param #   \n",
      "=================================================================\n",
      "conv2d_4 (Conv2D)            (None, 8, 1, 64)          128       \n",
      "_________________________________________________________________\n",
      "conv2d_5 (Conv2D)            (None, 8, 1, 64)          36928     \n",
      "_________________________________________________________________\n",
      "max_pooling2d_3 (MaxPooling2 (None, 8, 1, 64)          0         \n",
      "_________________________________________________________________\n",
      "dropout_3 (Dropout)          (None, 8, 1, 64)          0         \n",
      "_________________________________________________________________\n",
      "conv2d_6 (Conv2D)            (None, 8, 1, 64)          12352     \n",
      "_________________________________________________________________\n",
      "max_pooling2d_4 (MaxPooling2 (None, 8, 1, 64)          0         \n",
      "_________________________________________________________________\n",
      "dropout_4 (Dropout)          (None, 8, 1, 64)          0         \n",
      "_________________________________________________________________\n",
      "conv2d_7 (Conv2D)            (None, 8, 1, 32)          2080      \n",
      "_________________________________________________________________\n",
      "max_pooling2d_5 (MaxPooling2 (None, 8, 1, 32)          0         \n",
      "_________________________________________________________________\n",
      "dropout_5 (Dropout)          (None, 8, 1, 32)          0         \n",
      "_________________________________________________________________\n",
      "flatten_1 (Flatten)          (None, 256)               0         \n",
      "_________________________________________________________________\n",
      "dense_1 (Dense)              (None, 6)                 1542      \n",
      "=================================================================\n",
      "Total params: 53,030\n",
      "Trainable params: 53,030\n",
      "Non-trainable params: 0\n",
      "_________________________________________________________________\n"
     ]
    }
   ],
   "source": [
    "#CNN \n",
    "\n",
    "model = Sequential()\n",
    "\n",
    "model.add(Conv2D(64, 1, strides=1, padding='same', activation='relu', input_shape=(((X_train.shape[1], 1, 1)))))\n",
    "model.add(Conv2D(64, (3,3), strides=1, padding='same', activation= \"relu\"))\n",
    "model.add(MaxPool2D(1,1))\n",
    "model.add(Dropout(0.25))\n",
    "\n",
    "model.add(Conv2D(64, (3,1), strides=1, padding='same', activation='relu'))\n",
    "model.add(MaxPool2D(1,1))\n",
    "model.add(Dropout(0.15))\n",
    "\n",
    "model.add(Conv2D(32, (1,1), strides=1, padding='same', activation='relu'))\n",
    "model.add(MaxPool2D(1,1))\n",
    "model.add(Dropout(0.15))\n",
    "\n",
    "model.add(Flatten())\n",
    "model.add(Dense(6, activation='softmax'))\n",
    "\n",
    "model.compile(loss='sparse_categorical_crossentropy', optimizer='adam', metrics=['accuracy'])\n",
    "model.summary()"
   ]
  },
  {
   "cell_type": "code",
   "execution_count": 29,
   "metadata": {},
   "outputs": [
    {
     "name": "stdout",
     "output_type": "stream",
     "text": [
      "Epoch 1/100\n",
      "90/90 [==============================] - 2s 16ms/step - loss: 1.5911 - accuracy: 0.3279\n",
      "Epoch 2/100\n",
      "90/90 [==============================] - 1s 15ms/step - loss: 1.2947 - accuracy: 0.4482\n",
      "Epoch 3/100\n",
      "90/90 [==============================] - 1s 15ms/step - loss: 1.2316 - accuracy: 0.4854\n",
      "Epoch 4/100\n",
      "90/90 [==============================] - 1s 15ms/step - loss: 1.1887 - accuracy: 0.5096\n",
      "Epoch 5/100\n",
      "90/90 [==============================] - 1s 15ms/step - loss: 1.1689 - accuracy: 0.5176\n",
      "Epoch 6/100\n",
      "90/90 [==============================] - 1s 15ms/step - loss: 1.1513 - accuracy: 0.5266\n",
      "Epoch 7/100\n",
      "90/90 [==============================] - 1s 15ms/step - loss: 1.1417 - accuracy: 0.5313\n",
      "Epoch 8/100\n",
      "90/90 [==============================] - 1s 15ms/step - loss: 1.1324 - accuracy: 0.5404\n",
      "Epoch 9/100\n",
      "90/90 [==============================] - 1s 15ms/step - loss: 1.1230 - accuracy: 0.5407\n",
      "Epoch 10/100\n",
      "90/90 [==============================] - 1s 15ms/step - loss: 1.1182 - accuracy: 0.5426\n",
      "Epoch 11/100\n",
      "90/90 [==============================] - 1s 15ms/step - loss: 1.1093 - accuracy: 0.5479\n",
      "Epoch 12/100\n",
      "90/90 [==============================] - 1s 16ms/step - loss: 1.1052 - accuracy: 0.5492\n",
      "Epoch 13/100\n",
      "90/90 [==============================] - 1s 15ms/step - loss: 1.1028 - accuracy: 0.5500\n",
      "Epoch 14/100\n",
      "90/90 [==============================] - 1s 15ms/step - loss: 1.1007 - accuracy: 0.5516\n",
      "Epoch 15/100\n",
      "90/90 [==============================] - 1s 15ms/step - loss: 1.0899 - accuracy: 0.5584\n",
      "Epoch 16/100\n",
      "90/90 [==============================] - 1s 16ms/step - loss: 1.0863 - accuracy: 0.5562\n",
      "Epoch 17/100\n",
      "90/90 [==============================] - 1s 16ms/step - loss: 1.0896 - accuracy: 0.5549\n",
      "Epoch 18/100\n",
      "90/90 [==============================] - 1s 15ms/step - loss: 1.0837 - accuracy: 0.5577\n",
      "Epoch 19/100\n",
      "90/90 [==============================] - 1s 16ms/step - loss: 1.0809 - accuracy: 0.5589\n",
      "Epoch 20/100\n",
      "90/90 [==============================] - 2s 17ms/step - loss: 1.0785 - accuracy: 0.5612\n",
      "Epoch 21/100\n",
      "90/90 [==============================] - 1s 16ms/step - loss: 1.0769 - accuracy: 0.5592\n",
      "Epoch 22/100\n",
      "90/90 [==============================] - 1s 16ms/step - loss: 1.0736 - accuracy: 0.5609\n",
      "Epoch 23/100\n",
      "90/90 [==============================] - 1s 16ms/step - loss: 1.0760 - accuracy: 0.5593\n",
      "Epoch 24/100\n",
      "90/90 [==============================] - 1s 16ms/step - loss: 1.0715 - accuracy: 0.5634\n",
      "Epoch 25/100\n",
      "90/90 [==============================] - 1s 16ms/step - loss: 1.0713 - accuracy: 0.5622\n",
      "Epoch 26/100\n",
      "90/90 [==============================] - 2s 17ms/step - loss: 1.0665 - accuracy: 0.5655\n",
      "Epoch 27/100\n",
      "90/90 [==============================] - 1s 17ms/step - loss: 1.0717 - accuracy: 0.5662\n",
      "Epoch 28/100\n",
      "90/90 [==============================] - 1s 16ms/step - loss: 1.0662 - accuracy: 0.5641\n",
      "Epoch 29/100\n",
      "90/90 [==============================] - 1s 16ms/step - loss: 1.0639 - accuracy: 0.5650\n",
      "Epoch 30/100\n",
      "90/90 [==============================] - 1s 15ms/step - loss: 1.0631 - accuracy: 0.5625\n",
      "Epoch 31/100\n",
      "90/90 [==============================] - 1s 16ms/step - loss: 1.0606 - accuracy: 0.5674\n",
      "Epoch 32/100\n",
      "90/90 [==============================] - 1s 16ms/step - loss: 1.0599 - accuracy: 0.5665\n",
      "Epoch 33/100\n",
      "90/90 [==============================] - 2s 17ms/step - loss: 1.0564 - accuracy: 0.5718\n",
      "Epoch 34/100\n",
      "90/90 [==============================] - 1s 15ms/step - loss: 1.0594 - accuracy: 0.5708\n",
      "Epoch 35/100\n",
      "90/90 [==============================] - 1s 16ms/step - loss: 1.0583 - accuracy: 0.5678\n",
      "Epoch 36/100\n",
      "90/90 [==============================] - 1s 16ms/step - loss: 1.0569 - accuracy: 0.5699\n"
     ]
    }
   ],
   "source": [
    "history = model.fit(X_train_cnn, y_train, batch_size=256,epochs=100, callbacks=[custom_early_stopping])"
   ]
  },
  {
   "cell_type": "code",
   "execution_count": 33,
   "metadata": {},
   "outputs": [],
   "source": [
    "predicted_classes2 = model.predict(X_test_cnn)"
   ]
  },
  {
   "cell_type": "code",
   "execution_count": 34,
   "metadata": {},
   "outputs": [],
   "source": [
    "predicted_classes=[]\n",
    "for predicted_sport in predicted_classes2:\n",
    "    predicted_classes.append(predicted_sport.tolist().index(max(predicted_sport)))\n",
    "predicted_classes=np.array(predicted_classes)"
   ]
  },
  {
   "cell_type": "code",
   "execution_count": 37,
   "metadata": {},
   "outputs": [
    {
     "data": {
      "text/plain": [
       "((7200,), (7200, 1))"
      ]
     },
     "execution_count": 37,
     "metadata": {},
     "output_type": "execute_result"
    }
   ],
   "source": [
    "predicted_classes.shape, y_test.shape"
   ]
  },
  {
   "cell_type": "code",
   "execution_count": 41,
   "metadata": {},
   "outputs": [],
   "source": [
    "#rounded_labels = np.argmax(test_Y, axis=1)\n",
    "rounded_labels = y_test\n",
    "#rounded_labels[2]"
   ]
  },
  {
   "cell_type": "code",
   "execution_count": 46,
   "metadata": {},
   "outputs": [
    {
     "name": "stdout",
     "output_type": "stream",
     "text": [
      "225/225 [==============================] - 1s 2ms/step - loss: 1.0274 - accuracy: 0.5825\n"
     ]
    },
    {
     "data": {
      "text/plain": [
       "[1.027413249015808, 0.5824999809265137]"
      ]
     },
     "execution_count": 46,
     "metadata": {},
     "output_type": "execute_result"
    }
   ],
   "source": [
    "model.evaluate(X_test_cnn,y_test)"
   ]
  },
  {
   "attachments": {},
   "cell_type": "markdown",
   "metadata": {},
   "source": [
    "# **Confusion Matrix**"
   ]
  },
  {
   "cell_type": "code",
   "execution_count": 49,
   "metadata": {},
   "outputs": [],
   "source": [
    "from sklearn.metrics import confusion_matrix\n",
    "import itertools\n",
    "\n",
    "\n",
    "#predicted_classes_m = np.argmax(predicted_classes,axis=1)\n",
    "#test_Y_m = np.argmax(test_Y,axis=1)\n",
    "#Esto es dificil de leer \n",
    "\n",
    "#confusion_matrix(test_Y, predicted_classes_m)\n",
    "\n",
    "cm = confusion_matrix(rounded_labels,predicted_classes)\n",
    "\n"
   ]
  },
  {
   "cell_type": "code",
   "execution_count": 50,
   "metadata": {},
   "outputs": [],
   "source": [
    "def plot_confusion_matrix(cm, classes,\n",
    "                          normalize=True,\n",
    "                          title='Confusion matrix',\n",
    "                          cmap=plt.cm.Blues):\n",
    "    \"\"\"\n",
    "    This function prints and plots the confusion matrix.\n",
    "    Normalization can be applied by setting `normalize=True`.\n",
    "    \"\"\"\n",
    "    plt.imshow(cm, interpolation='nearest', cmap=cmap)\n",
    "    plt.title(title)\n",
    "    plt.colorbar()\n",
    "    tick_marks = np.arange(len(classes))\n",
    "    plt.xticks(tick_marks, classes, rotation=45)\n",
    "    plt.yticks(tick_marks, classes)\n",
    "\n",
    "    if normalize:\n",
    "        cm = cm.astype('float') / cm.sum(axis=1)[:, np.newaxis]\n",
    "        print(\"Normalized confusion matrix\")\n",
    "    else:\n",
    "        print('Confusion matrix, without normalization')\n",
    "\n",
    "    print(cm)\n",
    "\n",
    "    thresh = cm.max() / 2.\n",
    "    for i, j in itertools.product(range(cm.shape[0]), range(cm.shape[1])):\n",
    "        plt.text(j, i, format(cm[i, j],'.2f'),\n",
    "                 horizontalalignment=\"center\",\n",
    "                 color=\"white\" if cm[i, j] > thresh else \"black\")\n",
    "\n",
    "    plt.tight_layout()\n",
    "    plt.ylabel('True label')\n",
    "    plt.xlabel('Predicted label')\n",
    "    #plt.savefig(r'C:\\Users\\hpalm\\Desktop\\Programacion\\Proyecto_de_grado\\Jupyter\\Matrices de confusion\\all_to_one_32_18_1_2deci.png', transparent = False, bbox_inches = 'tight')"
   ]
  },
  {
   "cell_type": "code",
   "execution_count": 51,
   "metadata": {},
   "outputs": [
    {
     "name": "stdout",
     "output_type": "stream",
     "text": [
      "Normalized confusion matrix\n",
      "[[4.25833333e-01 6.41666667e-02 1.48333333e-01 2.00833333e-01\n",
      "  1.56666667e-01 4.16666667e-03]\n",
      " [7.41666667e-02 4.23333333e-01 2.16666667e-01 7.66666667e-02\n",
      "  1.20000000e-01 8.91666667e-02]\n",
      " [9.91666667e-02 2.06666667e-01 4.17500000e-01 9.00000000e-02\n",
      "  1.65000000e-01 2.16666667e-02]\n",
      " [9.75000000e-02 3.66666667e-02 7.08333333e-02 6.15000000e-01\n",
      "  1.79166667e-01 8.33333333e-04]\n",
      " [6.66666667e-02 8.58333333e-02 7.58333333e-02 1.38333333e-01\n",
      "  6.28333333e-01 5.00000000e-03]\n",
      " [0.00000000e+00 1.33333333e-02 0.00000000e+00 0.00000000e+00\n",
      "  1.66666667e-03 9.85000000e-01]]\n"
     ]
    },
    {
     "data": {
      "image/png": "[encoded data removed]",
      "text/plain": [
       "<Figure size 432x288 with 2 Axes>"
      ]
     },
     "metadata": {
      "needs_background": "light"
     },
     "output_type": "display_data"
    }
   ],
   "source": [
    "cm_plot_labels = ['Clase_1','Clase_2','Clase_3','Clase_4','Clase_5','Clase_6']\n",
    "plot_confusion_matrix(cm,cm_plot_labels, title = 'Confusion Matrix')"
   ]
  },
  {
   "attachments": {},
   "cell_type": "markdown",
   "metadata": {},
   "source": [
    "# **Metrics**"
   ]
  },
  {
   "cell_type": "code",
   "execution_count": 54,
   "metadata": {},
   "outputs": [
    {
     "name": "stdout",
     "output_type": "stream",
     "text": [
      "Accuracy:  58.25\n",
      "F1 :  57.65\n",
      "Recall_Score:  58.25\n",
      "Precision :  57.54\n"
     ]
    }
   ],
   "source": [
    "from sklearn.metrics import accuracy_score, precision_score, recall_score, f1_score\n",
    "\n",
    "\n",
    "\n",
    "accuracy = accuracy_score(y_test, predicted_classes)\n",
    "precision = precision_score(y_test, predicted_classes, average='weighted')\n",
    "recall = recall_score(y_test, predicted_classes, average='weighted')\n",
    "f1 = f1_score(y_test, predicted_classes, average='weighted')\n",
    "\n",
    "print('Accuracy: ', \"%.2f\" % (accuracy*100))\n",
    "print('F1 : ', \"%.2f\" % (precision*100))\n",
    "print('Recall_Score: ', \"%.2f\" % (recall*100))\n",
    "print('Precision : ', \"%.2f\" % (f1*100))"
   ]
  },
  {
   "cell_type": "code",
   "execution_count": 56,
   "metadata": {},
   "outputs": [
    {
     "name": "stdout",
     "output_type": "stream",
     "text": [
      "              precision    recall  f1-score   support\n",
      "\n",
      "           0       0.56      0.43      0.48      1200\n",
      "           1       0.51      0.42      0.46      1200\n",
      "           2       0.45      0.42      0.43      1200\n",
      "           3       0.55      0.61      0.58      1200\n",
      "           4       0.50      0.63      0.56      1200\n",
      "           5       0.89      0.98      0.94      1200\n",
      "\n",
      "    accuracy                           0.58      7200\n",
      "   macro avg       0.58      0.58      0.58      7200\n",
      "weighted avg       0.58      0.58      0.58      7200\n",
      "\n"
     ]
    }
   ],
   "source": [
    "from sklearn.metrics import classification_report\n",
    "print(classification_report(y_test, predicted_classes))"
   ]
  },
  {
   "cell_type": "markdown",
   "metadata": {},
   "source": [
    "# **All-to-one**"
   ]
  },
  {
   "cell_type": "code",
   "execution_count": 45,
   "metadata": {},
   "outputs": [],
   "source": [
    "import glob\n",
    "\n",
    "csv_files = glob.glob(r\"C:\\Users\\hpalm\\Desktop\\Programacion\\Datos_6000_MYO\\datos\\*.csv\")\n",
    "\n",
    "df_p = pd.read_csv(r\"C:\\Users\\hpalm\\Desktop\\Programacion\\Datos_6000_MYO\\datos\\p1.csv\")\n",
    "\n",
    "dataframes =[]"
   ]
  },
  {
   "cell_type": "code",
   "execution_count": 46,
   "metadata": {},
   "outputs": [],
   "source": [
    "for csv_file in csv_files:\n",
    "    df = pd.read_csv(csv_file)\n",
    "    dataframes.append(df)"
   ]
  },
  {
   "cell_type": "code",
   "execution_count": 47,
   "metadata": {},
   "outputs": [],
   "source": [
    "df_all = pd.concat(dataframes, ignore_index=True)\n",
    "\n",
    "\n",
    "df_all.sort_values(by=df_all.columns[8],inplace=True)\n",
    "\n",
    "\n",
    "df_all.reset_index(drop=True,inplace=True)"
   ]
  },
  {
   "cell_type": "code",
   "execution_count": 69,
   "metadata": {},
   "outputs": [],
   "source": [
    "# all patients' data\n",
    "\n",
    "X = df_all.iloc[:,:-1]\n",
    "y = df_all.iloc[:,8:]\n",
    "X = np.array(X[:])\n",
    "\n",
    "# one patient's data \n",
    "X_p = df_p.iloc[:,:-1]\n",
    "y_p = df_p.iloc[:,8:]\n",
    "X_p = np.array(X_p[:])"
   ]
  },
  {
   "cell_type": "code",
   "execution_count": 70,
   "metadata": {},
   "outputs": [
    {
     "data": {
      "text/plain": [
       "(36000, 8)"
      ]
     },
     "execution_count": 70,
     "metadata": {},
     "output_type": "execute_result"
    }
   ],
   "source": [
    "X_p.shape"
   ]
  },
  {
   "cell_type": "code",
   "execution_count": 71,
   "metadata": {},
   "outputs": [
    {
     "data": {
      "text/plain": [
       "(360000, 8)"
      ]
     },
     "execution_count": 71,
     "metadata": {},
     "output_type": "execute_result"
    }
   ],
   "source": [
    "X.shape"
   ]
  },
  {
   "cell_type": "code",
   "execution_count": 72,
   "metadata": {},
   "outputs": [
    {
     "data": {
      "text/plain": [
       "(360000, 8, 1, 1)"
      ]
     },
     "execution_count": 72,
     "metadata": {},
     "output_type": "execute_result"
    }
   ],
   "source": [
    "X_train_cnn = np.reshape(X,(X.shape[0], X.shape[1], 1, 1))\n",
    "X_test_cnn = np.reshape(X_p,(X_p.shape[0], X_p.shape[1], 1, 1))\n",
    "X_train_cnn.shape\n",
    "\n"
   ]
  },
  {
   "cell_type": "markdown",
   "metadata": {},
   "source": [
    "# **Train CNN**"
   ]
  },
  {
   "cell_type": "code",
   "execution_count": 28,
   "metadata": {},
   "outputs": [],
   "source": [
    "custom_early_stopping = EarlyStopping (monitor='loss', patience=3)"
   ]
  },
  {
   "cell_type": "code",
   "execution_count": 30,
   "metadata": {},
   "outputs": [
    {
     "name": "stdout",
     "output_type": "stream",
     "text": [
      "Model: \"sequential_1\"\n",
      "_________________________________________________________________\n",
      "Layer (type)                 Output Shape              Param #   \n",
      "=================================================================\n",
      "conv2d (Conv2D)              (None, 8, 1, 64)          128       \n",
      "_________________________________________________________________\n",
      "conv2d_1 (Conv2D)            (None, 8, 1, 64)          36928     \n",
      "_________________________________________________________________\n",
      "max_pooling2d (MaxPooling2D) (None, 8, 1, 64)          0         \n",
      "_________________________________________________________________\n",
      "dropout (Dropout)            (None, 8, 1, 64)          0         \n",
      "_________________________________________________________________\n",
      "conv2d_2 (Conv2D)            (None, 8, 1, 64)          12352     \n",
      "_________________________________________________________________\n",
      "max_pooling2d_1 (MaxPooling2 (None, 8, 1, 64)          0         \n",
      "_________________________________________________________________\n",
      "dropout_1 (Dropout)          (None, 8, 1, 64)          0         \n",
      "_________________________________________________________________\n",
      "conv2d_3 (Conv2D)            (None, 8, 1, 32)          2080      \n",
      "_________________________________________________________________\n",
      "max_pooling2d_2 (MaxPooling2 (None, 8, 1, 32)          0         \n",
      "_________________________________________________________________\n",
      "dropout_2 (Dropout)          (None, 8, 1, 32)          0         \n",
      "_________________________________________________________________\n",
      "flatten (Flatten)            (None, 256)               0         \n",
      "_________________________________________________________________\n",
      "dense (Dense)                (None, 6)                 1542      \n",
      "=================================================================\n",
      "Total params: 53,030\n",
      "Trainable params: 53,030\n",
      "Non-trainable params: 0\n",
      "_________________________________________________________________\n"
     ]
    }
   ],
   "source": [
    "#CNN \n",
    "\n",
    "model = Sequential()\n",
    "\n",
    "model.add(Conv2D(64, 1, strides=1, padding='same', activation='relu', input_shape=(((X.shape[1], 1, 1)))))\n",
    "model.add(Conv2D(64, (3,3), strides=1, padding='same', activation= \"relu\"))\n",
    "model.add(MaxPool2D(1,1))\n",
    "model.add(Dropout(0.25))\n",
    "\n",
    "model.add(Conv2D(64, (3,1), strides=1, padding='same', activation='relu'))\n",
    "model.add(MaxPool2D(1,1))\n",
    "model.add(Dropout(0.15))\n",
    "\n",
    "model.add(Conv2D(32, (1,1), strides=1, padding='same', activation='relu'))\n",
    "model.add(MaxPool2D(1,1))\n",
    "model.add(Dropout(0.15))\n",
    "\n",
    "model.add(Flatten())\n",
    "model.add(Dense(6, activation='softmax'))\n",
    "\n",
    "model.compile(loss='sparse_categorical_crossentropy', optimizer='adam', metrics=['accuracy'])\n",
    "model.summary()"
   ]
  },
  {
   "cell_type": "code",
   "execution_count": 31,
   "metadata": {},
   "outputs": [
    {
     "name": "stdout",
     "output_type": "stream",
     "text": [
      "Epoch 1/100\n",
      "1407/1407 [==============================] - 22s 15ms/step - loss: 1.5063 - accuracy: 0.3660\n",
      "Epoch 2/100\n",
      "1407/1407 [==============================] - 22s 16ms/step - loss: 1.4591 - accuracy: 0.3891\n",
      "Epoch 3/100\n",
      "1407/1407 [==============================] - 22s 16ms/step - loss: 1.4487 - accuracy: 0.3955\n",
      "Epoch 4/100\n",
      "1407/1407 [==============================] - 22s 16ms/step - loss: 1.4427 - accuracy: 0.3981\n",
      "Epoch 5/100\n",
      "1407/1407 [==============================] - 23s 16ms/step - loss: 1.4386 - accuracy: 0.4005\n",
      "Epoch 6/100\n",
      "1407/1407 [==============================] - 23s 16ms/step - loss: 1.4353 - accuracy: 0.4014\n",
      "Epoch 7/100\n",
      "1407/1407 [==============================] - 22s 16ms/step - loss: 1.4332 - accuracy: 0.4031\n",
      "Epoch 8/100\n",
      "1407/1407 [==============================] - 23s 17ms/step - loss: 1.4311 - accuracy: 0.4032\n",
      "Epoch 9/100\n",
      "1407/1407 [==============================] - 23s 16ms/step - loss: 1.4284 - accuracy: 0.4052\n",
      "Epoch 10/100\n",
      "1407/1407 [==============================] - 23s 16ms/step - loss: 1.4281 - accuracy: 0.4056\n",
      "Epoch 11/100\n",
      "1407/1407 [==============================] - 22s 16ms/step - loss: 1.4271 - accuracy: 0.4062\n",
      "Epoch 12/100\n",
      "1407/1407 [==============================] - 23s 16ms/step - loss: 1.4258 - accuracy: 0.4072\n",
      "Epoch 13/100\n",
      "1407/1407 [==============================] - 22s 16ms/step - loss: 1.4254 - accuracy: 0.4069\n",
      "Epoch 14/100\n",
      "1407/1407 [==============================] - 22s 16ms/step - loss: 1.4242 - accuracy: 0.4077\n",
      "Epoch 15/100\n",
      "1407/1407 [==============================] - 22s 16ms/step - loss: 1.4239 - accuracy: 0.4074\n",
      "Epoch 16/100\n",
      "1407/1407 [==============================] - 23s 17ms/step - loss: 1.4228 - accuracy: 0.4072\n",
      "Epoch 17/100\n",
      "1407/1407 [==============================] - 23s 17ms/step - loss: 1.4221 - accuracy: 0.4082\n",
      "Epoch 18/100\n",
      "1407/1407 [==============================] - 23s 16ms/step - loss: 1.4222 - accuracy: 0.4092\n",
      "Epoch 19/100\n",
      "1407/1407 [==============================] - 25s 18ms/step - loss: 1.4217 - accuracy: 0.4095\n",
      "Epoch 20/100\n",
      "1407/1407 [==============================] - 25s 18ms/step - loss: 1.4212 - accuracy: 0.4097\n",
      "Epoch 21/100\n",
      "1407/1407 [==============================] - 25s 18ms/step - loss: 1.4210 - accuracy: 0.4096\n",
      "Epoch 22/100\n",
      "1407/1407 [==============================] - 25s 18ms/step - loss: 1.4204 - accuracy: 0.4098\n",
      "Epoch 23/100\n",
      "1407/1407 [==============================] - 26s 19ms/step - loss: 1.4200 - accuracy: 0.4103\n",
      "Epoch 24/100\n",
      "1407/1407 [==============================] - 26s 19ms/step - loss: 1.4194 - accuracy: 0.4103\n",
      "Epoch 25/100\n",
      "1407/1407 [==============================] - 26s 18ms/step - loss: 1.4197 - accuracy: 0.4097\n",
      "Epoch 26/100\n",
      "1407/1407 [==============================] - 26s 18ms/step - loss: 1.4194 - accuracy: 0.4101\n",
      "Epoch 27/100\n",
      "1407/1407 [==============================] - 26s 18ms/step - loss: 1.4185 - accuracy: 0.4111\n",
      "Epoch 28/100\n",
      "1407/1407 [==============================] - 27s 19ms/step - loss: 1.4192 - accuracy: 0.4108\n",
      "Epoch 29/100\n",
      "1407/1407 [==============================] - 25s 18ms/step - loss: 1.4185 - accuracy: 0.4106\n",
      "Epoch 30/100\n",
      "1407/1407 [==============================] - 26s 18ms/step - loss: 1.4176 - accuracy: 0.4108\n",
      "Epoch 31/100\n",
      "1407/1407 [==============================] - 26s 18ms/step - loss: 1.4178 - accuracy: 0.4112\n",
      "Epoch 32/100\n",
      "1407/1407 [==============================] - 26s 19ms/step - loss: 1.4172 - accuracy: 0.4118\n",
      "Epoch 33/100\n",
      "1407/1407 [==============================] - 32s 23ms/step - loss: 1.4179 - accuracy: 0.4109\n",
      "Epoch 34/100\n",
      "1407/1407 [==============================] - 44s 31ms/step - loss: 1.4172 - accuracy: 0.4113\n",
      "Epoch 35/100\n",
      "1407/1407 [==============================] - 45s 32ms/step - loss: 1.4169 - accuracy: 0.4109\n",
      "Epoch 36/100\n",
      "1407/1407 [==============================] - 44s 31ms/step - loss: 1.4168 - accuracy: 0.4115\n",
      "Epoch 37/100\n",
      "1407/1407 [==============================] - 42s 30ms/step - loss: 1.4163 - accuracy: 0.4118\n",
      "Epoch 38/100\n",
      "1407/1407 [==============================] - 40s 29ms/step - loss: 1.4163 - accuracy: 0.4114\n",
      "Epoch 39/100\n",
      "1407/1407 [==============================] - 37s 27ms/step - loss: 1.4161 - accuracy: 0.4110\n",
      "Epoch 40/100\n",
      "1407/1407 [==============================] - 36s 26ms/step - loss: 1.4163 - accuracy: 0.4122\n",
      "Epoch 41/100\n",
      "1407/1407 [==============================] - 34s 24ms/step - loss: 1.4157 - accuracy: 0.4117\n",
      "Epoch 42/100\n",
      "1407/1407 [==============================] - 33s 23ms/step - loss: 1.4162 - accuracy: 0.4117\n",
      "Epoch 43/100\n",
      "1407/1407 [==============================] - 32s 23ms/step - loss: 1.4152 - accuracy: 0.4120\n",
      "Epoch 44/100\n",
      "1407/1407 [==============================] - 33s 23ms/step - loss: 1.4162 - accuracy: 0.4113\n",
      "Epoch 45/100\n",
      "1407/1407 [==============================] - 33s 23ms/step - loss: 1.4154 - accuracy: 0.4122\n",
      "Epoch 46/100\n",
      "1407/1407 [==============================] - 35s 25ms/step - loss: 1.4149 - accuracy: 0.4122\n",
      "Epoch 47/100\n",
      "1407/1407 [==============================] - 35s 25ms/step - loss: 1.4149 - accuracy: 0.4120\n",
      "Epoch 48/100\n",
      "1407/1407 [==============================] - 38s 27ms/step - loss: 1.4155 - accuracy: 0.4122\n",
      "Epoch 49/100\n",
      "1407/1407 [==============================] - 35s 25ms/step - loss: 1.4151 - accuracy: 0.4121\n"
     ]
    }
   ],
   "source": [
    "history = model.fit(X_train_cnn, y, batch_size=256,epochs=100, callbacks=[custom_early_stopping])"
   ]
  },
  {
   "cell_type": "code",
   "execution_count": 75,
   "metadata": {},
   "outputs": [],
   "source": [
    "predicted_classes2 = model.predict(X_test_cnn)"
   ]
  },
  {
   "cell_type": "code",
   "execution_count": 76,
   "metadata": {},
   "outputs": [],
   "source": [
    "predicted_classes=[]\n",
    "for predicted_sport in predicted_classes2:\n",
    "    predicted_classes.append(predicted_sport.tolist().index(max(predicted_sport)))\n",
    "predicted_classes=np.array(predicted_classes)"
   ]
  },
  {
   "cell_type": "code",
   "execution_count": 77,
   "metadata": {},
   "outputs": [
    {
     "data": {
      "text/plain": [
       "((36000,), (36000, 1))"
      ]
     },
     "execution_count": 77,
     "metadata": {},
     "output_type": "execute_result"
    }
   ],
   "source": [
    "predicted_classes.shape, y_p.shape"
   ]
  },
  {
   "cell_type": "code",
   "execution_count": 78,
   "metadata": {},
   "outputs": [],
   "source": [
    "#rounded_labels = np.argmax(test_Y, axis=1)\n",
    "rounded_labels = y_p\n",
    "#rounded_labels[2]"
   ]
  },
  {
   "cell_type": "code",
   "execution_count": 73,
   "metadata": {},
   "outputs": [
    {
     "name": "stdout",
     "output_type": "stream",
     "text": [
      "1125/1125 [==============================] - 2s 2ms/step - loss: 1.3879 - accuracy: 0.4127\n"
     ]
    },
    {
     "data": {
      "text/plain": [
       "[1.3879166841506958, 0.41272222995758057]"
      ]
     },
     "execution_count": 73,
     "metadata": {},
     "output_type": "execute_result"
    }
   ],
   "source": [
    "model.evaluate(X_test_cnn,y_p)"
   ]
  },
  {
   "cell_type": "markdown",
   "metadata": {},
   "source": [
    "# **Metrics**"
   ]
  },
  {
   "cell_type": "code",
   "execution_count": 79,
   "metadata": {},
   "outputs": [],
   "source": [
    "from sklearn.metrics import confusion_matrix\n",
    "import itertools\n",
    "\n",
    "\n",
    "#predicted_classes_m = np.argmax(predicted_classes,axis=1)\n",
    "#test_Y_m = np.argmax(test_Y,axis=1)\n",
    "#Esto es dificil de leer \n",
    "\n",
    "#confusion_matrix(test_Y, predicted_classes_m)\n",
    "\n",
    "cm = confusion_matrix(rounded_labels,predicted_classes)\n"
   ]
  },
  {
   "cell_type": "code",
   "execution_count": 80,
   "metadata": {},
   "outputs": [],
   "source": [
    "def plot_confusion_matrix(cm, classes,\n",
    "                          normalize=True,\n",
    "                          title='Confusion matrix',\n",
    "                          cmap=plt.cm.Blues):\n",
    "    \"\"\"\n",
    "    This function prints and plots the confusion matrix.\n",
    "    Normalization can be applied by setting `normalize=True`.\n",
    "    \"\"\"\n",
    "    plt.imshow(cm, interpolation='nearest', cmap=cmap)\n",
    "    plt.title(title)\n",
    "    plt.colorbar()\n",
    "    tick_marks = np.arange(len(classes))\n",
    "    plt.xticks(tick_marks, classes, rotation=45)\n",
    "    plt.yticks(tick_marks, classes)\n",
    "\n",
    "    if normalize:\n",
    "        cm = cm.astype('float') / cm.sum(axis=1)[:, np.newaxis]\n",
    "        print(\"Normalized confusion matrix\")\n",
    "    else:\n",
    "        print('Confusion matrix, without normalization')\n",
    "\n",
    "    print(cm)\n",
    "\n",
    "    thresh = cm.max() / 2.\n",
    "    for i, j in itertools.product(range(cm.shape[0]), range(cm.shape[1])):\n",
    "        plt.text(j, i, format(cm[i, j],'.2f'),\n",
    "                 horizontalalignment=\"center\",\n",
    "                 color=\"white\" if cm[i, j] > thresh else \"black\")\n",
    "\n",
    "    plt.tight_layout()\n",
    "    plt.ylabel('True label')\n",
    "    plt.xlabel('Predicted label')\n",
    "    #plt.savefig(r'C:\\Users\\hpalm\\Desktop\\Programacion\\Proyecto_de_grado\\Jupyter\\Matrices de confusion\\all_to_one_32_18_1_2deci.png', transparent = False, bbox_inches = 'tight')"
   ]
  },
  {
   "cell_type": "code",
   "execution_count": 81,
   "metadata": {},
   "outputs": [
    {
     "name": "stdout",
     "output_type": "stream",
     "text": [
      "Normalized confusion matrix\n",
      "[[0.24933333 0.091      0.23566667 0.18716667 0.192      0.04483333]\n",
      " [0.10033333 0.07366667 0.38016667 0.10783333 0.032      0.306     ]\n",
      " [0.1115     0.05983333 0.428      0.19816667 0.05883333 0.14366667]\n",
      " [0.2225     0.06366667 0.12283333 0.43983333 0.12216667 0.029     ]\n",
      " [0.134      0.04716667 0.14233333 0.285      0.2855     0.106     ]\n",
      " [0.         0.         0.         0.         0.         1.        ]]\n"
     ]
    },
    {
     "data": {
      "image/png": "[encoded data removed]",
      "text/plain": [
       "<Figure size 432x288 with 2 Axes>"
      ]
     },
     "metadata": {
      "needs_background": "light"
     },
     "output_type": "display_data"
    }
   ],
   "source": [
    "cm_plot_labels = ['Clase_1','Clase_2','Clase_3','Clase_4','Clase_5','Clase_6']\n",
    "plot_confusion_matrix(cm,cm_plot_labels, title = 'Confusion Matrix')"
   ]
  }
 ],
 "metadata": {
  "kernelspec": {
   "display_name": "tfradeon",
   "language": "python",
   "name": "python3"
  },
  "language_info": {
   "codemirror_mode": {
    "name": "ipython",
    "version": 3
   },
   "file_extension": ".py",
   "mimetype": "text/x-python",
   "name": "python",
   "nbconvert_exporter": "python",
   "pygments_lexer": "ipython3",
   "version": "3.6.13"
  },
  "orig_nbformat": 4
 },
 "nbformat": 4,
 "nbformat_minor": 2
}
