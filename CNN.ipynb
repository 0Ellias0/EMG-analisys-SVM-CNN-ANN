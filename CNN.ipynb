{
 "cells": [
  {
   "attachments": {},
   "cell_type": "markdown",
   "metadata": {},
   "source": [
    "# **Libraries**"
   ]
  },
  {
   "cell_type": "code",
   "execution_count": 7,
   "metadata": {},
   "outputs": [],
   "source": [
    "import tensorflow as tf \n",
    "import pandas as pd\n",
    "import numpy as np\n",
    "from tensorflow.keras.models import Sequential,  Model\n",
    "from tensorflow.keras.layers import Dense, Dropout, Flatten, Input,BatchNormalization, Conv2D, MaxPooling2D, BatchNormalization, LeakyReLU, AveragePooling2D\n",
    "from tensorflow.keras.callbacks import EarlyStopping, History, TensorBoard,ModelCheckpoint\n",
    "from sklearn.model_selection import train_test_split\n",
    "from tensorflow.keras import regularizers\n",
    "import matplotlib.pyplot as plt"
   ]
  },
  {
   "attachments": {},
   "cell_type": "markdown",
   "metadata": {},
   "source": [
    "# **Import EMG Feature (CSV file)**"
   ]
  },
  {
   "cell_type": "code",
   "execution_count": 8,
   "metadata": {},
   "outputs": [
    {
     "data": {
      "text/html": [
       "<div>\n",
       "<style scoped>\n",
       "    .dataframe tbody tr th:only-of-type {\n",
       "        vertical-align: middle;\n",
       "    }\n",
       "\n",
       "    .dataframe tbody tr th {\n",
       "        vertical-align: top;\n",
       "    }\n",
       "\n",
       "    .dataframe thead th {\n",
       "        text-align: right;\n",
       "    }\n",
       "</style>\n",
       "<table border=\"1\" class=\"dataframe\">\n",
       "  <thead>\n",
       "    <tr style=\"text-align: right;\">\n",
       "      <th></th>\n",
       "      <th>Canal_1</th>\n",
       "      <th>Canal_2</th>\n",
       "      <th>Canal_3</th>\n",
       "      <th>Canal_4</th>\n",
       "      <th>Canal_5</th>\n",
       "      <th>Canal_6</th>\n",
       "      <th>Canal_7</th>\n",
       "      <th>Canal_8</th>\n",
       "      <th>Clase</th>\n",
       "    </tr>\n",
       "  </thead>\n",
       "  <tbody>\n",
       "    <tr>\n",
       "      <th>0</th>\n",
       "      <td>0.031250</td>\n",
       "      <td>-0.335938</td>\n",
       "      <td>-0.195312</td>\n",
       "      <td>-0.031250</td>\n",
       "      <td>0.078125</td>\n",
       "      <td>0.031250</td>\n",
       "      <td>0.078125</td>\n",
       "      <td>0.007812</td>\n",
       "      <td>0</td>\n",
       "    </tr>\n",
       "    <tr>\n",
       "      <th>1</th>\n",
       "      <td>-0.117188</td>\n",
       "      <td>0.304688</td>\n",
       "      <td>0.453125</td>\n",
       "      <td>0.140625</td>\n",
       "      <td>-0.070312</td>\n",
       "      <td>-0.007812</td>\n",
       "      <td>0.015625</td>\n",
       "      <td>-0.054688</td>\n",
       "      <td>0</td>\n",
       "    </tr>\n",
       "    <tr>\n",
       "      <th>2</th>\n",
       "      <td>-0.101562</td>\n",
       "      <td>-0.320312</td>\n",
       "      <td>-0.117188</td>\n",
       "      <td>0.109375</td>\n",
       "      <td>0.125000</td>\n",
       "      <td>0.023438</td>\n",
       "      <td>-0.015625</td>\n",
       "      <td>0.007812</td>\n",
       "      <td>0</td>\n",
       "    </tr>\n",
       "    <tr>\n",
       "      <th>3</th>\n",
       "      <td>-0.359375</td>\n",
       "      <td>-0.132812</td>\n",
       "      <td>-0.570312</td>\n",
       "      <td>-0.273438</td>\n",
       "      <td>-0.093750</td>\n",
       "      <td>-0.078125</td>\n",
       "      <td>-0.085938</td>\n",
       "      <td>-0.062500</td>\n",
       "      <td>0</td>\n",
       "    </tr>\n",
       "    <tr>\n",
       "      <th>4</th>\n",
       "      <td>0.281250</td>\n",
       "      <td>0.187500</td>\n",
       "      <td>0.570312</td>\n",
       "      <td>0.289062</td>\n",
       "      <td>0.101562</td>\n",
       "      <td>0.031250</td>\n",
       "      <td>0.031250</td>\n",
       "      <td>-0.093750</td>\n",
       "      <td>0</td>\n",
       "    </tr>\n",
       "    <tr>\n",
       "      <th>...</th>\n",
       "      <td>...</td>\n",
       "      <td>...</td>\n",
       "      <td>...</td>\n",
       "      <td>...</td>\n",
       "      <td>...</td>\n",
       "      <td>...</td>\n",
       "      <td>...</td>\n",
       "      <td>...</td>\n",
       "      <td>...</td>\n",
       "    </tr>\n",
       "    <tr>\n",
       "      <th>35995</th>\n",
       "      <td>0.000000</td>\n",
       "      <td>-0.007812</td>\n",
       "      <td>-0.023438</td>\n",
       "      <td>-0.007812</td>\n",
       "      <td>-0.007812</td>\n",
       "      <td>-0.015625</td>\n",
       "      <td>-0.007812</td>\n",
       "      <td>-0.007812</td>\n",
       "      <td>5</td>\n",
       "    </tr>\n",
       "    <tr>\n",
       "      <th>35996</th>\n",
       "      <td>0.000000</td>\n",
       "      <td>-0.015625</td>\n",
       "      <td>-0.007812</td>\n",
       "      <td>0.007812</td>\n",
       "      <td>-0.007812</td>\n",
       "      <td>-0.007812</td>\n",
       "      <td>-0.007812</td>\n",
       "      <td>0.007812</td>\n",
       "      <td>5</td>\n",
       "    </tr>\n",
       "    <tr>\n",
       "      <th>35997</th>\n",
       "      <td>-0.007812</td>\n",
       "      <td>-0.007812</td>\n",
       "      <td>0.000000</td>\n",
       "      <td>0.000000</td>\n",
       "      <td>-0.007812</td>\n",
       "      <td>-0.007812</td>\n",
       "      <td>0.000000</td>\n",
       "      <td>-0.015625</td>\n",
       "      <td>5</td>\n",
       "    </tr>\n",
       "    <tr>\n",
       "      <th>35998</th>\n",
       "      <td>0.000000</td>\n",
       "      <td>-0.007812</td>\n",
       "      <td>-0.007812</td>\n",
       "      <td>0.000000</td>\n",
       "      <td>-0.007812</td>\n",
       "      <td>-0.007812</td>\n",
       "      <td>-0.023438</td>\n",
       "      <td>-0.007812</td>\n",
       "      <td>5</td>\n",
       "    </tr>\n",
       "    <tr>\n",
       "      <th>35999</th>\n",
       "      <td>-0.015625</td>\n",
       "      <td>0.007812</td>\n",
       "      <td>0.007812</td>\n",
       "      <td>-0.007812</td>\n",
       "      <td>-0.023438</td>\n",
       "      <td>-0.015625</td>\n",
       "      <td>-0.031250</td>\n",
       "      <td>0.000000</td>\n",
       "      <td>5</td>\n",
       "    </tr>\n",
       "  </tbody>\n",
       "</table>\n",
       "<p>36000 rows × 9 columns</p>\n",
       "</div>"
      ],
      "text/plain": [
       "        Canal_1   Canal_2   Canal_3   Canal_4   Canal_5   Canal_6   Canal_7  \\\n",
       "0      0.031250 -0.335938 -0.195312 -0.031250  0.078125  0.031250  0.078125   \n",
       "1     -0.117188  0.304688  0.453125  0.140625 -0.070312 -0.007812  0.015625   \n",
       "2     -0.101562 -0.320312 -0.117188  0.109375  0.125000  0.023438 -0.015625   \n",
       "3     -0.359375 -0.132812 -0.570312 -0.273438 -0.093750 -0.078125 -0.085938   \n",
       "4      0.281250  0.187500  0.570312  0.289062  0.101562  0.031250  0.031250   \n",
       "...         ...       ...       ...       ...       ...       ...       ...   \n",
       "35995  0.000000 -0.007812 -0.023438 -0.007812 -0.007812 -0.015625 -0.007812   \n",
       "35996  0.000000 -0.015625 -0.007812  0.007812 -0.007812 -0.007812 -0.007812   \n",
       "35997 -0.007812 -0.007812  0.000000  0.000000 -0.007812 -0.007812  0.000000   \n",
       "35998  0.000000 -0.007812 -0.007812  0.000000 -0.007812 -0.007812 -0.023438   \n",
       "35999 -0.015625  0.007812  0.007812 -0.007812 -0.023438 -0.015625 -0.031250   \n",
       "\n",
       "        Canal_8  Clase  \n",
       "0      0.007812      0  \n",
       "1     -0.054688      0  \n",
       "2      0.007812      0  \n",
       "3     -0.062500      0  \n",
       "4     -0.093750      0  \n",
       "...         ...    ...  \n",
       "35995 -0.007812      5  \n",
       "35996  0.007812      5  \n",
       "35997 -0.015625      5  \n",
       "35998 -0.007812      5  \n",
       "35999  0.000000      5  \n",
       "\n",
       "[36000 rows x 9 columns]"
      ]
     },
     "execution_count": 8,
     "metadata": {},
     "output_type": "execute_result"
    }
   ],
   "source": [
    "df = pd.read_csv(r\"C:\\Users\\hpalm\\Downloads\\p1 (1).csv\")\n",
    "df"
   ]
  },
  {
   "attachments": {},
   "cell_type": "markdown",
   "metadata": {},
   "source": [
    "# **Train and Test set**"
   ]
  },
  {
   "cell_type": "code",
   "execution_count": 9,
   "metadata": {},
   "outputs": [],
   "source": [
    "X = df.iloc[:,:7].values    # features matrix \n",
    "y = df.iloc[:,[8]].values        # target variable"
   ]
  },
  {
   "cell_type": "code",
   "execution_count": 10,
   "metadata": {},
   "outputs": [
    {
     "name": "stdout",
     "output_type": "stream",
     "text": [
      "Testing data shape :  (7200, 7) (7200, 1)\n",
      "Training data shape :  (23040, 7) (23040, 1)\n",
      "validation data shape :  (5760, 7) (5760, 1)\n"
     ]
    }
   ],
   "source": [
    "# Split data into train, test and validatio sets \n",
    "\n",
    "X_train, X_test, y_train, y_test= train_test_split(X, y,test_size=0.2,random_state=0, stratify=y)\n",
    "X_train, X_val, y_train, y_val= train_test_split(X_train, y_train,test_size=0.2,random_state=0, stratify=y_train)\n",
    "\n",
    "print('Testing data shape : ', X_test.shape, y_test.shape)\n",
    "print('Training data shape : ', X_train.shape, y_train.shape)\n",
    "print('validation data shape : ', X_val.shape, y_val.shape)"
   ]
  },
  {
   "attachments": {},
   "cell_type": "markdown",
   "metadata": {},
   "source": [
    "# **Build SVM and train**"
   ]
  },
  {
   "cell_type": "code",
   "execution_count": 135,
   "metadata": {},
   "outputs": [],
   "source": []
  },
  {
   "attachments": {},
   "cell_type": "markdown",
   "metadata": {},
   "source": [
    "# **Confusion Matrix**"
   ]
  },
  {
   "cell_type": "code",
   "execution_count": 140,
   "metadata": {},
   "outputs": [],
   "source": [
    "from sklearn.metrics import confusion_matrix\n",
    "import pandas as pd\n",
    "\n",
    "# Assuming clf is your trained SVM model and X_test, y_test are your test data and labels, respectively\n",
    "y_pred = clf.predict(X_test)\n",
    "cm = confusion_matrix(y_test, y_pred)\n",
    "df_cm = pd.DataFrame(cm, index = [i for i in range(6)],\n",
    "                  columns = [i for i in range(6)])"
   ]
  },
  {
   "cell_type": "code",
   "execution_count": 141,
   "metadata": {},
   "outputs": [
    {
     "data": {
      "image/png": "[encoded data removed]",
      "text/plain": [
       "<Figure size 432x288 with 2 Axes>"
      ]
     },
     "metadata": {
      "needs_background": "light"
     },
     "output_type": "display_data"
    }
   ],
   "source": [
    "labels=[\"AP\", \"PI\", \"PO\", \"MO\", \"AT\", \"RE\"] #Con Reposo\n",
    "#labels=[\"AP\", \"PI\", \"PO\", \"MO\", \"AT\"] #Sin Reposo\n",
    "df_cm = pd.DataFrame(cm, labels, labels)\n",
    "ax = sns.heatmap(df_cm, annot=True, annot_kws={\"size\": 16}, square=True, cbar=True, fmt='g')\n",
    "ax.set_ylim(0, 6) \n",
    "plt.xlabel(\"Predicted\") \n",
    "plt.ylabel(\"Actual\") \n",
    "ax.invert_yaxis() \n",
    "plt.show()"
   ]
  },
  {
   "attachments": {},
   "cell_type": "markdown",
   "metadata": {},
   "source": [
    "# **Metrics**"
   ]
  },
  {
   "cell_type": "code",
   "execution_count": 142,
   "metadata": {},
   "outputs": [
    {
     "name": "stdout",
     "output_type": "stream",
     "text": [
      "Accuracy:  47.44\n",
      "F1 :  48.17\n",
      "Recall_Score:  47.44\n",
      "Precision :  46.86\n"
     ]
    }
   ],
   "source": [
    "from sklearn.metrics import accuracy_score, precision_score, recall_score, f1_score\n",
    "\n",
    "\n",
    "y_pred = clf.predict(X_test)\n",
    "accuracy = accuracy_score(y_test, y_pred)\n",
    "precision = precision_score(y_test, y_pred, average='weighted')\n",
    "recall = recall_score(y_test, y_pred, average='weighted')\n",
    "f1 = f1_score(y_test, y_pred, average='weighted')\n",
    "\n",
    "print('Accuracy: ', \"%.2f\" % (accuracy*100))\n",
    "print('F1 : ', \"%.2f\" % (precision*100))\n",
    "print('Recall_Score: ', \"%.2f\" % (recall*100))\n",
    "print('Precision : ', \"%.2f\" % (f1*100))"
   ]
  },
  {
   "cell_type": "code",
   "execution_count": 129,
   "metadata": {},
   "outputs": [
    {
     "name": "stdout",
     "output_type": "stream",
     "text": [
      "              precision    recall  f1-score   support\n",
      "\n",
      "           0       0.35      0.36      0.36       381\n",
      "           1       0.52      0.28      0.37       381\n",
      "           2       0.39      0.45      0.42       381\n",
      "           3       0.38      0.30      0.33       381\n",
      "           4       0.34      0.49      0.40       381\n",
      "           5       0.90      0.97      0.94       380\n",
      "\n",
      "    accuracy                           0.47      2285\n",
      "   macro avg       0.48      0.47      0.47      2285\n",
      "weighted avg       0.48      0.47      0.47      2285\n",
      "\n"
     ]
    }
   ],
   "source": [
    "from sklearn.metrics import classification_report\n",
    "print(classification_report(y_test, y_pred))"
   ]
  }
 ],
 "metadata": {
  "kernelspec": {
   "display_name": "tfradeon",
   "language": "python",
   "name": "python3"
  },
  "language_info": {
   "codemirror_mode": {
    "name": "ipython",
    "version": 3
   },
   "file_extension": ".py",
   "mimetype": "text/x-python",
   "name": "python",
   "nbconvert_exporter": "python",
   "pygments_lexer": "ipython3",
   "version": "3.6.13"
  },
  "orig_nbformat": 4
 },
 "nbformat": 4,
 "nbformat_minor": 2
}
